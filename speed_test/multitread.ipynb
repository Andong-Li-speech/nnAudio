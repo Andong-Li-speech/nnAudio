{
 "cells": [
  {
   "cell_type": "code",
   "execution_count": 41,
   "metadata": {},
   "outputs": [],
   "source": [
    "from multiprocessing import Process, Manager\n",
    "import multiprocessing as mp\n",
    "from librosa import stft\n",
    "import numpy as np\n",
    "from time import time"
   ]
  },
  {
   "cell_type": "code",
   "execution_count": 42,
   "metadata": {},
   "outputs": [],
   "source": [
    "waveforms = np.load('y_list.npy')"
   ]
  },
  {
   "cell_type": "markdown",
   "metadata": {},
   "source": [
    "# Multi Processing for librosa"
   ]
  },
  {
   "cell_type": "code",
   "execution_count": 50,
   "metadata": {},
   "outputs": [],
   "source": [
    "n_workers = 40"
   ]
  },
  {
   "cell_type": "code",
   "execution_count": 51,
   "metadata": {},
   "outputs": [],
   "source": [
    "def foo(i):  # the managed list `L` passed explicitly.\n",
    "    spec = stft(i)\n",
    "    return spec"
   ]
  },
  {
   "cell_type": "markdown",
   "metadata": {},
   "source": [
    "## With appending function (free order)"
   ]
  },
  {
   "cell_type": "code",
   "execution_count": 52,
   "metadata": {},
   "outputs": [
    {
     "name": "stdout",
     "output_type": "stream",
     "text": [
      "11.595662 seconds are used to finish the conversion\n"
     ]
    }
   ],
   "source": [
    "start = time()\n",
    "n_workers = mp.cpu_count()\n",
    "pool = mp.Pool(n_workers)\n",
    "result = []\n",
    "for filename in waveforms:\n",
    "    pool.apply_async(foo, args=(filename, ), callback=result.append)\n",
    "pool.close()  # no more jobs will be added\n",
    "pool.join()\n",
    "print('{:2f} seconds are used to finish the conversion'.format(time()-start))"
   ]
  },
  {
   "cell_type": "markdown",
   "metadata": {},
   "source": [
    "## With appending function (ensure in order)"
   ]
  },
  {
   "cell_type": "code",
   "execution_count": 40,
   "metadata": {},
   "outputs": [
    {
     "name": "stdout",
     "output_type": "stream",
     "text": [
      "28.850948 seconds are used to finish the conversion\n"
     ]
    }
   ],
   "source": [
    "start = time()\n",
    "n_workers = mp.cpu_count()\n",
    "pool = mp.Pool(n_workers)\n",
    "result = []\n",
    "for filename in waveforms:\n",
    "    r = pool.apply_async(foo, args=(filename, ), callback=result.append)\n",
    "    r.wait()\n",
    "pool.close()  # no more jobs will be added\n",
    "pool.join()\n",
    "print('{:2f} seconds are used to finish the conversion'.format(time()-start))"
   ]
  },
  {
   "cell_type": "markdown",
   "metadata": {},
   "source": [
    "# Multi Processing approach"
   ]
  },
  {
   "cell_type": "code",
   "execution_count": 4,
   "metadata": {},
   "outputs": [
    {
     "name": "stdout",
     "output_type": "stream",
     "text": [
      "42.939029 seconds are used to finish the conversion\n",
      "42.939029 seconds are used to finish the conversion\n",
      "42.939029 seconds are used to finish the conversion\n"
     ]
    }
   ],
   "source": [
    "start = time()\n",
    "manager = Manager()\n",
    "L = manager.list()  # <-- can be shared between processes.\n",
    "processes = []\n",
    "for i in waveforms:\n",
    "    p = Process(target=dothing, args=(L,i))  # Passing the list\n",
    "    p.start()\n",
    "    processes.append(p)\n",
    "for p in processes:\n",
    "    p.join()\n",
    "#     print(L)\n",
    "print('{:2f} seconds are used to finish the conversion'.format(time()-start))"
   ]
  },
  {
   "cell_type": "markdown",
   "metadata": {},
   "source": [
    "# Multi Processing Pool approach"
   ]
  },
  {
   "cell_type": "code",
   "execution_count": 5,
   "metadata": {},
   "outputs": [
    {
     "name": "stdout",
     "output_type": "stream",
     "text": [
      "13.009506 seconds are used to finish the conversion\n",
      "13.009506 seconds are used to finish the conversion\n",
      "13.009506 seconds are used to finish the conversion\n"
     ]
    }
   ],
   "source": [
    "from multiprocessing import Pool\n",
    "\n",
    "def f(x):\n",
    "    return stft(x)\n",
    "\n",
    "start = time()\n",
    "p = Pool(n_workers)\n",
    "p.map(f, waveforms)\n",
    "print('{:2f} seconds are used to finish the conversion'.format(time()-start))"
   ]
  },
  {
   "cell_type": "markdown",
   "metadata": {},
   "source": [
    "# For loop approach"
   ]
  },
  {
   "cell_type": "code",
   "execution_count": 46,
   "metadata": {},
   "outputs": [
    {
     "name": "stdout",
     "output_type": "stream",
     "text": [
      "9.738493 seconds are used to finish the conversion\n"
     ]
    }
   ],
   "source": [
    "L2 = []\n",
    "start = time()\n",
    "for i in waveforms:\n",
    "    L2.append(stft(i))\n",
    "print('{:2f} seconds are used to finish the conversion'.format(time()-start))    "
   ]
  },
  {
   "cell_type": "markdown",
   "metadata": {},
   "source": [
    "# Comparing the results"
   ]
  },
  {
   "cell_type": "code",
   "execution_count": 37,
   "metadata": {},
   "outputs": [],
   "source": [
    "counter = 0\n",
    "for i in range(len(result)):\n",
    "    if np.array_equal(result[i], L2[i]) == True:\n",
    "        counter += 1"
   ]
  },
  {
   "cell_type": "code",
   "execution_count": 38,
   "metadata": {},
   "outputs": [
    {
     "data": {
      "text/plain": [
       "1770"
      ]
     },
     "execution_count": 38,
     "metadata": {},
     "output_type": "execute_result"
    }
   ],
   "source": [
    "counter"
   ]
  },
  {
   "cell_type": "code",
   "execution_count": null,
   "metadata": {},
   "outputs": [],
   "source": []
  }
 ],
 "metadata": {
  "kernelspec": {
   "display_name": "Python 3",
   "language": "python",
   "name": "python3"
  },
  "language_info": {
   "codemirror_mode": {
    "name": "ipython",
    "version": 3
   },
   "file_extension": ".py",
   "mimetype": "text/x-python",
   "name": "python",
   "nbconvert_exporter": "python",
   "pygments_lexer": "ipython3",
   "version": "3.6.8"
  }
 },
 "nbformat": 4,
 "nbformat_minor": 2
}
