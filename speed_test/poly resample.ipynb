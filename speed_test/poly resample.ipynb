{
 "cells": [
  {
   "cell_type": "code",
   "execution_count": 17,
   "metadata": {},
   "outputs": [],
   "source": [
    "import numpy as np\n",
    "import scipy.fftpack as fftpack\n",
    "import matplotlib.pyplot as plt\n",
    "from scipy.signal import firwin\n",
    "\n",
    "class _UpFIRDn(object):\n",
    "    def __init__(self, h, x_dtype, up, down):\n",
    "        \"\"\"Helper for resampling\"\"\"\n",
    "        h = np.asarray(h)\n",
    "        if h.ndim != 1 or h.size == 0:\n",
    "            raise ValueError('h must be 1D with non-zero length')\n",
    "        self._output_type = np.result_type(h.dtype, x_dtype, np.float32)\n",
    "        h = np.asarray(h, self._output_type)\n",
    "        self._up = int(up)\n",
    "        self._down = int(down)\n",
    "        if self._up < 1 or self._down < 1:\n",
    "            raise ValueError('Both up and down must be >= 1')\n",
    "        # This both transposes, and \"flips\" each phase for filtering\n",
    "        self._h_trans_flip = _pad_h(h, self._up)\n",
    "\n",
    "    def apply_filter(self, x):\n",
    "        \"\"\"Apply the prepared filter to a 1D signal x\"\"\"\n",
    "        output_len = _output_len(len(self._h_trans_flip), len(x),\n",
    "                                 self._up, self._down)\n",
    "        out = np.zeros(output_len, dtype=self._output_type)\n",
    "        _apply(np.asarray(x, self._output_type), self._h_trans_flip, out,\n",
    "               self._up, self._down)\n",
    "        return out\n",
    "\n",
    "def _pad_h(h, up):\n",
    "    \"\"\"Store coefficients in a transposed, flipped arrangement.\n",
    "    For example, suppose upRate is 3, and the\n",
    "    input number of coefficients is 10, represented as h[0], ..., h[9].\n",
    "    Then the internal buffer will look like this::\n",
    "       h[9], h[6], h[3], h[0],   // flipped phase 0 coefs\n",
    "       0,    h[7], h[4], h[1],   // flipped phase 1 coefs (zero-padded)\n",
    "       0,    h[8], h[5], h[2],   // flipped phase 2 coefs (zero-padded)\n",
    "    \"\"\"\n",
    "    h_padlen = len(h) + (-len(h) % up)\n",
    "    h_full = np.zeros(h_padlen, h.dtype)\n",
    "    h_full[:len(h)] = h\n",
    "    h_full = h_full.reshape(-1, up).T[:, ::-1].ravel()\n",
    "    return h_full"
   ]
  },
  {
   "cell_type": "code",
   "execution_count": 10,
   "metadata": {},
   "outputs": [],
   "source": [
    "up=1\n",
    "down=2\n",
    "window=('kaiser', 5.0)\n",
    "\n",
    "fs = 256\n",
    "axis = 0\n",
    "s = np.linspace(0,10,fs*1)\n",
    "x = np.sin(2*np.pi*1*s, dtype=np.float32) + np.sin(2*np.pi*6*s, dtype=np.float32) \\\n",
    "    + np.sin(2*np.pi*4*s, dtype=np.float32) + np.sin(2*np.pi*8*s, dtype=np.float32)  "
   ]
  },
  {
   "cell_type": "code",
   "execution_count": 11,
   "metadata": {},
   "outputs": [],
   "source": [
    "n_out = x.shape[0]/2"
   ]
  },
  {
   "cell_type": "code",
   "execution_count": 12,
   "metadata": {},
   "outputs": [],
   "source": [
    "max_rate = max(up, down)\n",
    "f_c = 1. / max_rate  # cutoff of FIR filter (rel. to Nyquist)\n",
    "half_len = 10 * max_rate  # reasonable cutoff for our sinc-like function\n",
    "h = firwin(2 * half_len + 1, f_c, window=window)\n",
    "h *= up"
   ]
  },
  {
   "cell_type": "code",
   "execution_count": 13,
   "metadata": {},
   "outputs": [
    {
     "data": {
      "text/plain": [
       "[<matplotlib.lines.Line2D at 0x7ffaa9599fd0>]"
      ]
     },
     "execution_count": 13,
     "metadata": {},
     "output_type": "execute_result"
    },
    {
     "data": {
      "image/png": "[encoded data removed]",
      "text/plain": [
       "<Figure size 432x288 with 1 Axes>"
      ]
     },
     "metadata": {
      "needs_background": "light"
     },
     "output_type": "display_data"
    }
   ],
   "source": [
    "plt.plot(h)"
   ]
  },
  {
   "cell_type": "code",
   "execution_count": 14,
   "metadata": {},
   "outputs": [],
   "source": [
    "# Zero-pad our filter to put the output samples at the center\n",
    "n_pre_pad = (down - half_len % down)\n",
    "n_post_pad = 0\n",
    "n_pre_remove = (half_len + n_pre_pad) // down\n",
    "h = np.concatenate((np.zeros(n_pre_pad), h, np.zeros(n_post_pad)))"
   ]
  },
  {
   "cell_type": "code",
   "execution_count": 15,
   "metadata": {},
   "outputs": [
    {
     "data": {
      "text/plain": [
       "[<matplotlib.lines.Line2D at 0x7ffaa9508208>]"
      ]
     },
     "execution_count": 15,
     "metadata": {},
     "output_type": "execute_result"
    },
    {
     "data": {
      "image/png": "[encoded data removed]",
      "text/plain": [
       "<Figure size 432x288 with 1 Axes>"
      ]
     },
     "metadata": {
      "needs_background": "light"
     },
     "output_type": "display_data"
    }
   ],
   "source": [
    "plt.plot(h)"
   ]
  },
  {
   "cell_type": "code",
   "execution_count": 18,
   "metadata": {},
   "outputs": [],
   "source": [
    "ufd = _UpFIRDn(h, x.dtype, up, down)"
   ]
  },
  {
   "cell_type": "code",
   "execution_count": 19,
   "metadata": {},
   "outputs": [
    {
     "data": {
      "text/plain": [
       "<__main__._UpFIRDn at 0x7ffaa9537208>"
      ]
     },
     "execution_count": 19,
     "metadata": {},
     "output_type": "execute_result"
    }
   ],
   "source": [
    "ufd"
   ]
  },
  {
   "cell_type": "code",
   "execution_count": null,
   "metadata": {},
   "outputs": [],
   "source": []
  }
 ],
 "metadata": {
  "kernelspec": {
   "display_name": "Python 3",
   "language": "python",
   "name": "python3"
  },
  "language_info": {
   "codemirror_mode": {
    "name": "ipython",
    "version": 3
   },
   "file_extension": ".py",
   "mimetype": "text/x-python",
   "name": "python",
   "nbconvert_exporter": "python",
   "pygments_lexer": "ipython3",
   "version": "3.6.8"
  }
 },
 "nbformat": 4,
 "nbformat_minor": 2
}
