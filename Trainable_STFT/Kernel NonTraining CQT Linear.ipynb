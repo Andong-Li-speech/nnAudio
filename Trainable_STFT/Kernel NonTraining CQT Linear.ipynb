{
 "cells": [
  {
   "cell_type": "code",
   "execution_count": 1,
   "metadata": {},
   "outputs": [],
   "source": [
    "# from nnAudio import Spectrogram\n",
    "import sys\n",
    "sys.path.insert(0,'../Installation/nnAudio')\n",
    "import Spectrogram\n",
    "import numpy as np\n",
    "import matplotlib.pyplot as plt\n",
    "from tqdm import tqdm\n",
    "from helperfunctions import get_dummy_dataset\n",
    "\n",
    "from sklearn.model_selection import train_test_split\n",
    "import torch\n",
    "import torchvision\n",
    "\n",
    "import os\n",
    "os.environ['CUDA_VISIBLE_DEVICES']='0'\n",
    "\n",
    "if torch.cuda.is_available():\n",
    "    device = \"cuda:0\"\n",
    "    torch.set_default_tensor_type('torch.cuda.FloatTensor')"
   ]
  },
  {
   "cell_type": "code",
   "execution_count": 2,
   "metadata": {},
   "outputs": [
    {
     "name": "stderr",
     "output_type": "stream",
     "text": [
      "100%|██████████| 10925/10925 [00:38<00:00, 280.31it/s]\n"
     ]
    }
   ],
   "source": [
    "X, Y = get_dummy_dataset()"
   ]
  },
  {
   "cell_type": "code",
   "execution_count": 3,
   "metadata": {},
   "outputs": [],
   "source": [
    "X_train, X_test, Y_train, Y_test = train_test_split(X,Y.reshape(-1,1), test_size=0.2, random_state=101)"
   ]
  },
  {
   "cell_type": "code",
   "execution_count": 4,
   "metadata": {},
   "outputs": [],
   "source": [
    "trainset = torch.utils.data.TensorDataset(torch.tensor(X_train, device='cpu'), torch.tensor(Y_train, device='cpu'))\n",
    "testset = torch.utils.data.TensorDataset(torch.tensor(X_test, device='cpu'), torch.tensor(Y_test, device='cpu'))"
   ]
  },
  {
   "cell_type": "code",
   "execution_count": 5,
   "metadata": {},
   "outputs": [],
   "source": [
    "trainloader = torch.utils.data.DataLoader(trainset, batch_size=512)\n",
    "testloader = torch.utils.data.DataLoader(testset, batch_size=512)"
   ]
  },
  {
   "cell_type": "code",
   "execution_count": 29,
   "metadata": {},
   "outputs": [],
   "source": [
    "class Model(torch.nn.Module):\n",
    "    def __init__(self):\n",
    "        super(Model,self).__init__()\n",
    "        self.cqt = Spectrogram.CQT1992v2(sr=44100, hop_length=512, fmin=200,\n",
    "                                     n_bins=82, bins_per_octave=12,\n",
    "                                     norm=1, window='hann',\n",
    "                                     center=True, pad_mode='constant', trainable=False)\n",
    "#         torch.nn.init.xavier_uniform_(self.mel.mel_basis)\n",
    "        \n",
    "        self.regressor = torch.nn.Linear(82*18,1)\n",
    "\n",
    "    def forward(self, x):\n",
    "        x = self.cqt(x)\n",
    "#         print(x.shape)\n",
    "        x = x.view(x.data.size()[0], 82*18)\n",
    "        x = self.regressor(x)\n",
    "        return torch.sigmoid(x)"
   ]
  },
  {
   "cell_type": "code",
   "execution_count": 34,
   "metadata": {},
   "outputs": [
    {
     "name": "stdout",
     "output_type": "stream",
     "text": [
      "Creating CQT kernels ...\r",
      "CQT kernels created, time used = 0.0271 seconds\n"
     ]
    },
    {
     "data": {
      "text/plain": [
       "Model(\n",
       "  (cqt): CQT1992v2()\n",
       "  (regressor): Linear(in_features=1476, out_features=1, bias=True)\n",
       ")"
      ]
     },
     "execution_count": 34,
     "metadata": {},
     "output_type": "execute_result"
    }
   ],
   "source": [
    "model = Model()\n",
    "model.cuda()"
   ]
  },
  {
   "cell_type": "code",
   "execution_count": 35,
   "metadata": {},
   "outputs": [],
   "source": [
    "optimizer = torch.optim.Adam(model.parameters(), lr=8e-7)\n",
    "loss_function = torch.nn.MSELoss() "
   ]
  },
  {
   "cell_type": "markdown",
   "metadata": {},
   "source": [
    "# Visualizing Original Weights"
   ]
  },
  {
   "cell_type": "code",
   "execution_count": 36,
   "metadata": {},
   "outputs": [
    {
     "data": {
      "text/plain": [
       "<matplotlib.image.AxesImage at 0x7fc1629e3470>"
      ]
     },
     "execution_count": 36,
     "metadata": {},
     "output_type": "execute_result"
    },
    {
     "data": {
      "image/png": "[encoded data removed]",
      "text/plain": [
       "<Figure size 432x288 with 1 Axes>"
      ]
     },
     "metadata": {
      "needs_background": "light"
     },
     "output_type": "display_data"
    }
   ],
   "source": [
    "original_basis = model.cqt.cqt_kernels_real.cpu().detach().numpy().squeeze(1)\n",
    "original_basis2 = model.cqt.cqt_kernels_imag.cpu().detach().numpy().squeeze(1)\n",
    "plt.imshow(original_basis, aspect='auto', origin='lower', vmin=-1e-5,vmax=1e-5)"
   ]
  },
  {
   "cell_type": "markdown",
   "metadata": {},
   "source": [
    "# Traiing Model"
   ]
  },
  {
   "cell_type": "code",
   "execution_count": 37,
   "metadata": {},
   "outputs": [
    {
     "name": "stdout",
     "output_type": "stream",
     "text": [
      "epoch\ttrain loss\ttest loss\n",
      "0\t0.097427\t0.094930                                                                                 \n",
      "1\t0.094165\t0.091750                                                                                 \n",
      "2\t0.091000\t0.088663                                                                                 \n",
      "3\t0.087928\t0.085666                                                                                 \n",
      "4\t0.084947\t0.082757                                                                                 \n",
      "5\t0.082053\t0.079934                                                                                 \n",
      "6\t0.079246\t0.077195                                                                                 \n",
      "7\t0.076524\t0.074540                                                                                 \n",
      "8\t0.073886\t0.071966                                                                                 \n",
      "9\t0.071330\t0.069473                                                                                 \n",
      "10\t0.068856\t0.067060                                                                                \n",
      "11\t0.066462\t0.064724                                                                                \n",
      "12\t0.064146\t0.062466                                                                                \n",
      "13\t0.061908\t0.060282                                                                                \n",
      "14\t0.059745\t0.058171                                                                                \n",
      "15\t0.057656\t0.056133                                                                                \n",
      "16\t0.055639\t0.054165                                                                                \n",
      "17\t0.053693\t0.052265                                                                                \n",
      "18\t0.051816\t0.050433                                                                                \n",
      "19\t0.050006\t0.048665                                                                                \n",
      "20\t0.048261\t0.046962                                                                                \n",
      "21\t0.046580\t0.045320                                                                                \n",
      "22\t0.044961\t0.043738                                                                                \n",
      "23\t0.043402\t0.042215                                                                                \n",
      "24\t0.041901\t0.040749                                                                                \n",
      "25\t0.040456\t0.039337                                                                                \n",
      "26\t0.039066\t0.037980                                                                                \n",
      "27\t0.037730\t0.036674                                                                                \n",
      "28\t0.036445\t0.035418                                                                                \n",
      "29\t0.035209\t0.034210                                                                                \n",
      "30\t0.034021\t0.033050                                                                                \n",
      "31\t0.032880\t0.031935                                                                                \n",
      "32\t0.031783\t0.030863                                                                                \n",
      "33\t0.030730\t0.029834                                                                                \n",
      "34\t0.029718\t0.028845                                                                                \n",
      "35\t0.028746\t0.027895                                                                                \n",
      "36\t0.027812\t0.026983                                                                                \n",
      "37\t0.026916\t0.026107                                                                                \n",
      "38\t0.026055\t0.025265                                                                                \n",
      "39\t0.025228\t0.024457                                                                                \n",
      "40\t0.024433\t0.023680                                                                                \n",
      "41\t0.023670\t0.022934                                                                                \n",
      "42\t0.022936\t0.022217                                                                                \n",
      "43\t0.022231\t0.021528                                                                                \n",
      "44\t0.021553\t0.020865                                                                                \n",
      "45\t0.020900\t0.020227                                                                                \n",
      "46\t0.020272\t0.019613                                                                                \n",
      "47\t0.019668\t0.019022                                                                                \n",
      "48\t0.019086\t0.018453                                                                                \n",
      "49\t0.018525\t0.017905                                                                                \n",
      "50\t0.017985\t0.017377                                                                                \n",
      "51\t0.017464\t0.016867                                                                                \n",
      "52\t0.016962\t0.016376                                                                                \n",
      "53\t0.016477\t0.015902                                                                                \n",
      "54\t0.016010\t0.015445                                                                                \n",
      "55\t0.015558\t0.015004                                                                                \n",
      "56\t0.015123\t0.014578                                                                                \n",
      "57\t0.014702\t0.014166                                                                                \n",
      "58\t0.014295\t0.013769                                                                                \n",
      "59\t0.013901\t0.013384                                                                                \n"
     ]
    }
   ],
   "source": [
    "# model.mel.mel_basis.requ\n",
    "\n",
    "loss_train = []\n",
    "loss_test = []\n",
    "print(\"epoch\\ttrain loss\\ttest loss\")\n",
    "for e in range(60):\n",
    "    loss_train_e = 0.0\n",
    "    loss_test_e = 0.0\n",
    "\n",
    "    for i, (x, y) in enumerate(trainloader):\n",
    "        x = x.cuda()\n",
    "        y = y.cuda()/110240 # Normalizing to labels to [0,1]\n",
    "        optimizer.zero_grad()\n",
    "        y_pred = model(x)\n",
    "        loss = loss_function(y_pred, y)\n",
    "        loss.backward() # Calculating gradient\n",
    "        optimizer.step() # Updating paramenters by gradient\n",
    "        loss_train_e += loss.item()\n",
    "        print(f\"training {i}/{len(trainloader)} batches, loss = {loss.item():.6f}\", end = '\\r')\n",
    "    loss_train.append(loss_train_e/len(trainloader))\n",
    "   \n",
    "    with torch.no_grad():\n",
    "        for x, y in testloader:\n",
    "            x = x.cuda()\n",
    "            y = y.cuda()/110240\n",
    "            y_pred = model(x)\n",
    "            loss = loss_function(y_pred, y)\n",
    "            loss_test_e +=loss.item()\n",
    "        loss_test.append(loss_test_e/len(testloader))\n",
    "        print(' '*100, end='\\r')\n",
    "        print(f\"{e}\\t{loss_train[-1]:.6f}\\t{loss_test[-1]:.6f}\")"
   ]
  },
  {
   "cell_type": "markdown",
   "metadata": {},
   "source": [
    "# Visualizing Trained Weights"
   ]
  },
  {
   "cell_type": "code",
   "execution_count": 40,
   "metadata": {},
   "outputs": [
    {
     "data": {
      "text/plain": [
       "<matplotlib.image.AxesImage at 0x7fc16295c240>"
      ]
     },
     "execution_count": 40,
     "metadata": {},
     "output_type": "execute_result"
    },
    {
     "data": {
      "image/png": "[encoded data removed]",
      "text/plain": [
       "<Figure size 432x288 with 1 Axes>"
      ]
     },
     "metadata": {
      "needs_background": "light"
     },
     "output_type": "display_data"
    }
   ],
   "source": [
    "trained_basis = model.cqt.cqt_kernels_real.cpu().detach().numpy().squeeze(1)\n",
    "trained_basis = model.cqt.cqt_kernels_imag.cpu().detach().numpy().squeeze(1)\n",
    "plt.imshow(original_basis, aspect='auto', origin='lower', vmin=-1e-5,vmax=1e-5)"
   ]
  },
  {
   "cell_type": "code",
   "execution_count": 41,
   "metadata": {},
   "outputs": [],
   "source": [
    "np.save('nontrainable_cqt_lin', loss_test)"
   ]
  },
  {
   "cell_type": "markdown",
   "metadata": {},
   "source": [
    "# Have a closer look on the STFT basis"
   ]
  },
  {
   "cell_type": "code",
   "execution_count": null,
   "metadata": {},
   "outputs": [],
   "source": [
    "fig, ax = plt.subplots(5,2, figsize=(12,18))\n",
    "cols = ['Original', 'Trained']\n",
    "for ax_idx, col in zip(ax[0], cols):\n",
    "    ax_idx.set_title(col, size=16)\n",
    "\n",
    "for i in range(5):\n",
    "    ax[i,0].plot(original_basis[5*i+1])\n",
    "    ax[i,1].plot(trained_basis[5*i+1])\n",
    "    ax[i,0].tick_params(labelsize=12)\n",
    "    ax[i,1].tick_params(labelsize=12)"
   ]
  },
  {
   "cell_type": "code",
   "execution_count": null,
   "metadata": {},
   "outputs": [],
   "source": []
  }
 ],
 "metadata": {
  "kernelspec": {
   "display_name": "Python 3",
   "language": "python",
   "name": "python3"
  },
  "language_info": {
   "codemirror_mode": {
    "name": "ipython",
    "version": 3
   },
   "file_extension": ".py",
   "mimetype": "text/x-python",
   "name": "python",
   "nbconvert_exporter": "python",
   "pygments_lexer": "ipython3",
   "version": "3.6.8"
  }
 },
 "nbformat": 4,
 "nbformat_minor": 2
}
