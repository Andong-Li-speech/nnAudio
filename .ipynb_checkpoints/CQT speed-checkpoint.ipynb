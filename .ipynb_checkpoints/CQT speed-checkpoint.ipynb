{
 "cells": [
  {
   "cell_type": "code",
   "execution_count": 2,
   "metadata": {},
   "outputs": [],
   "source": [
    "import numpy as np\n",
    "from librosa.core import cqt\n",
    "import matplotlib.pyplot as plt\n",
    "import time"
   ]
  },
  {
   "cell_type": "code",
   "execution_count": 3,
   "metadata": {},
   "outputs": [],
   "source": [
    "y_list = np.load('y_list.npy')"
   ]
  },
  {
   "cell_type": "code",
   "execution_count": 4,
   "metadata": {},
   "outputs": [
    {
     "name": "stdout",
     "output_type": "stream",
     "text": [
      "103.01670026779175\n",
      "102.61241412162781\n",
      "102.6236047744751\n",
      "102.57393002510071\n",
      "102.57989740371704\n"
     ]
    }
   ],
   "source": [
    "cqt_list = []\n",
    "timing = []\n",
    "for e in range(5):\n",
    "    t_start = time.time()\n",
    "    for i in y_list:\n",
    "        spec = cqt(i, sr=44100, n_bins=168, bins_per_octave=24)\n",
    "        cqt_list.append(spec)\n",
    "    time_used = time.time()-t_start\n",
    "    print(time_used)\n",
    "    timing.append(time_used)"
   ]
  },
  {
   "cell_type": "code",
   "execution_count": 6,
   "metadata": {},
   "outputs": [
    {
     "name": "stdout",
     "output_type": "stream",
     "text": [
      "mean =  102.68130931854247\n",
      "std =  0.16874723140299358\n"
     ]
    }
   ],
   "source": [
    "print(\"mean = \",np.mean(timing))\n",
    "print(\"std = \", np.std(timing))"
   ]
  }
 ],
 "metadata": {
  "kernelspec": {
   "display_name": "Python 3",
   "language": "python",
   "name": "python3"
  },
  "language_info": {
   "codemirror_mode": {
    "name": "ipython",
    "version": 3
   },
   "file_extension": ".py",
   "mimetype": "text/x-python",
   "name": "python",
   "nbconvert_exporter": "python",
   "pygments_lexer": "ipython3",
   "version": "3.6.8"
  }
 },
 "nbformat": 4,
 "nbformat_minor": 2
}
