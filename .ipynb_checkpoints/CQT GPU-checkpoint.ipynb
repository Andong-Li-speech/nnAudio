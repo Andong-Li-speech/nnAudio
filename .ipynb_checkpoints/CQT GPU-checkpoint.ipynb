{
 "cells": [
  {
   "cell_type": "code",
   "execution_count": 1,
   "metadata": {},
   "outputs": [],
   "source": [
    "import numpy as np\n",
    "from scipy import fft\n",
    "from scipy.sparse import csr_matrix\n",
    "from scipy.io.wavfile import read\n",
    "from librosa.core import note_to_hz\n",
    "import matplotlib.pyplot as plt\n",
    "from scipy.signal import get_window\n",
    "import scipy\n",
    "import filters\n",
    "import warnings\n",
    "\n",
    "import torch\n",
    "import torch.nn as nn\n",
    "from torch.nn.functional import conv1d\n",
    "from librosa import stft\n",
    "\n",
    "# parameters\n",
    "# nargin = 6\n",
    "bins = 24 # bins per octave\n",
    "fs = 22050 # sampling rate\n",
    "\n",
    "# fmax = 61.73541266 # same as 1 octave\n",
    "fmax = 880\n",
    "fmin = note_to_hz('A3')\n",
    "thresh= 0.0054\n",
    "\n",
    "stride = 512\n",
    "\n",
    "s = np.linspace(0,10,fs*10)\n",
    "x = np.sin(2*np.pi*450*s, dtype=np.float32) + np.sin(2*np.pi*500*s, dtype=np.float32) +np.sin(2*np.pi*600*s, dtype=np.float32) \n",
    "\n",
    "def nextpow2(A):\n",
    "    return int(np.ceil(np.log2(A)))\n",
    "\n",
    "def create_cqt_kernals(fs, fmin, fmax=None, n_bins=84, bins_per_octave=12, window='hann'):\n",
    "    Q = 1/(2**(1/bins_per_octave)-1)\n",
    "    fftLen = 2**nextpow2(np.ceil(Q * fs / fmin))\n",
    "    # minWin = 2**nextpow2(np.ceil(Q * fs / fmax))\n",
    "    if (fmax != None) and  (n_bins == None):\n",
    "        n_bins = np.ceil(bins_per_octave * np.log2(fmax / fmin)) # Calculate the number of bins\n",
    "        freqs = fmin * 2.0 ** (np.r_[0:n_bins] / np.float(bins_per_octave))    \n",
    "    elif (fmax == None) and  (n_bins != None):\n",
    "        freqs = fmin * 2.0 ** (np.r_[0:n_bins] / np.float(bins_per_octave))\n",
    "    else:\n",
    "        warnings.warn('If fmax is given, n_bins will be ignored',SyntaxWarning)\n",
    "        n_bins = np.ceil(bins_per_octave * np.log2(fmax / fmin)) # Calculate the number of bins\n",
    "        freqs = fmin * 2.0 ** (np.r_[0:n_bins] / np.float(bins_per_octave))\n",
    "\n",
    "    tempKernel = np.zeros((int(n_bins), int(fftLen)), dtype=np.complex64)\n",
    "    specKernel = np.zeros((int(n_bins), int(fftLen)), dtype=np.complex64)    \n",
    "    for k in range(0, int(n_bins)):\n",
    "        freq = freqs[k]\n",
    "        l = np.ceil(Q * fs / freq)\n",
    "        if l%2==1: # pad more zeros on RHS\n",
    "            start = int(np.ceil(fftLen / 2.0 - l / 2.0))-1\n",
    "        else:\n",
    "            start = int(np.ceil(fftLen / 2.0 - l / 2.0))\n",
    "        tempKernel[k, start:start + int(l)] = get_window(window,int(l), fftbins=True)*np.exp(np.r_[-l//2:l//2]*1j*2*np.pi*freq/fs)/l\n",
    "        # specKernel[k, :]=fft(conj(tempKernel[k, :]))\n",
    "        specKernel[k, :] = fft(tempKernel[k])\n",
    "        \n",
    "    return specKernel[:,:fftLen//2+1], fftLen"
   ]
  },
  {
   "cell_type": "code",
   "execution_count": 2,
   "metadata": {},
   "outputs": [],
   "source": [
    "def complex_mul(cqt_filter, stft):\n",
    "    cqt_filter_real = cqt_filter[0]\n",
    "    cqt_filter_imag = cqt_filter[1]\n",
    "    fourier_real = stft[0]\n",
    "    fourier_imag = stft[1]\n",
    "    \n",
    "    CQT_real = torch.matmul(cqt_filter_real, fourier_real) - torch.matmul(cqt_filter_imag, fourier_imag)\n",
    "    CQT_imag = torch.matmul(cqt_filter_real, fourier_imag) + torch.matmul(cqt_filter_imag, fourier_real)   \n",
    "    \n",
    "    return CQT_real, CQT_imag"
   ]
  },
  {
   "cell_type": "code",
   "execution_count": 3,
   "metadata": {},
   "outputs": [],
   "source": [
    "from librosa.core import cqt"
   ]
  },
  {
   "cell_type": "code",
   "execution_count": 4,
   "metadata": {},
   "outputs": [],
   "source": [
    "class CQT(torch.nn.Module):\n",
    "    def __init__(self, sr=22050, hop_length=512, fmin=220, fmax=None, n_bins=84, bins_per_octave=12, window='hann', center=False):\n",
    "        super(CQT, self).__init__()\n",
    "        #To Do center = False#\n",
    "        \n",
    "        self.hop_length = hop_length\n",
    "        \n",
    "        # creating kernals for CQT\n",
    "        self.cqt_kernals, self.kernal_width = create_cqt_kernals(sr, fmin, fmax, n_bins, bins_per_octave, window)\n",
    "        self.cqt_kernals_real = torch.tensor(self.cqt_kernals.real)\n",
    "        self.cqt_kernals_imag = torch.tensor(self.cqt_kernals.imag)\n",
    "        \n",
    "        # creating kernals for stft\n",
    "        wsin, wcos = filters.create_fourier_kernals(self.kernal_width, windowing=\"no\", freq_scale='no')\n",
    "        self.wsin = torch.tensor(wsin)\n",
    "        self.wcos = torch.tensor(wcos)        \n",
    "        \n",
    "    def forward(self,x):\n",
    "        # STFT\n",
    "        fourier_real = conv1d(x[None,None,:], self.wcos, stride=self.hop_length)\n",
    "        fourier_imag = conv1d(x[None,None,:], self.wsin, stride=self.hop_length)\n",
    "        \n",
    "        # CQT\n",
    "        CQT_real, CQT_imag = complex_mul((self.cqt_kernals_real, self.cqt_kernals_imag), \n",
    "                                         (fourier_real, fourier_imag))\n",
    "        \n",
    "        # Getting CQT Amplitude\n",
    "        CQT = torch.sqrt(CQT_real.pow(2)+CQT_imag.pow(2))\n",
    "        \n",
    "        return CQT"
   ]
  },
  {
   "cell_type": "code",
   "execution_count": 5,
   "metadata": {},
   "outputs": [
    {
     "name": "stderr",
     "output_type": "stream",
     "text": [
      "/opt/conda/lib/python3.6/site-packages/ipykernel_launcher.py:45: SyntaxWarning: If fmax is given, n_bins will be ignored\n"
     ]
    }
   ],
   "source": [
    "CQT_layer = CQT(fs, stride, fmin, fmax, bins_per_octave=bins)"
   ]
  },
  {
   "cell_type": "code",
   "execution_count": 6,
   "metadata": {},
   "outputs": [
    {
     "data": {
      "text/plain": [
       "<matplotlib.image.AxesImage at 0x7f399e52db38>"
      ]
     },
     "execution_count": 6,
     "metadata": {},
     "output_type": "execute_result"
    },
    {
     "data": {
      "image/png": "[encoded data removed]",
      "text/plain": [
       "<Figure size 432x288 with 1 Axes>"
      ]
     },
     "metadata": {
      "needs_background": "light"
     },
     "output_type": "display_data"
    }
   ],
   "source": [
    "plt.imshow(CQT_layer(torch.tensor(x))[0],aspect='auto', origin='lower')"
   ]
  },
  {
   "cell_type": "markdown",
   "metadata": {},
   "source": [
    "# GPU implmentation"
   ]
  },
  {
   "cell_type": "code",
   "execution_count": 7,
   "metadata": {},
   "outputs": [
    {
     "ename": "NameError",
     "evalue": "name 'cqt_filter_real' is not defined",
     "output_type": "error",
     "traceback": [
      "\u001b[0;31m---------------------------------------------------------------------------\u001b[0m",
      "\u001b[0;31mNameError\u001b[0m                                 Traceback (most recent call last)",
      "\u001b[0;32m<ipython-input-7-1bc2f0a2765e>\u001b[0m in \u001b[0;36m<module>\u001b[0;34m\u001b[0m\n\u001b[0;32m----> 1\u001b[0;31m \u001b[0mCQT_real\u001b[0m\u001b[0;34m,\u001b[0m \u001b[0mCQT_imag\u001b[0m \u001b[0;34m=\u001b[0m \u001b[0mcomplex_mul\u001b[0m\u001b[0;34m(\u001b[0m\u001b[0;34m(\u001b[0m\u001b[0mcqt_filter_real\u001b[0m\u001b[0;34m,\u001b[0m \u001b[0mcqt_filter_imag\u001b[0m\u001b[0;34m)\u001b[0m\u001b[0;34m,\u001b[0m \u001b[0;34m(\u001b[0m\u001b[0mfourier_real\u001b[0m\u001b[0;34m,\u001b[0m \u001b[0mfourier_imag\u001b[0m\u001b[0;34m)\u001b[0m\u001b[0;34m)\u001b[0m\u001b[0;34m\u001b[0m\u001b[0;34m\u001b[0m\u001b[0m\n\u001b[0m",
      "\u001b[0;31mNameError\u001b[0m: name 'cqt_filter_real' is not defined"
     ]
    }
   ],
   "source": [
    "CQT_real, CQT_imag = complex_mul((cqt_filter_real, cqt_filter_imag), (fourier_real, fourier_imag))"
   ]
  },
  {
   "cell_type": "code",
   "execution_count": null,
   "metadata": {},
   "outputs": [],
   "source": [
    "CQT_GPU = torch.sqrt(CQT_real.pow(2)+CQT_imag.pow(2))"
   ]
  },
  {
   "cell_type": "code",
   "execution_count": null,
   "metadata": {},
   "outputs": [],
   "source": [
    "plt.imshow(CQT_GPU[0],aspect='auto', origin='lower')"
   ]
  },
  {
   "cell_type": "markdown",
   "metadata": {},
   "source": [
    "# CPU implementation"
   ]
  },
  {
   "cell_type": "code",
   "execution_count": 8,
   "metadata": {},
   "outputs": [],
   "source": [
    "kernal_width = CQT_layer.kernal_width\n",
    "cqt_filter = CQT_layer.cqt_kernals"
   ]
  },
  {
   "cell_type": "code",
   "execution_count": 9,
   "metadata": {},
   "outputs": [],
   "source": [
    "x_fft = stft(x, CQT_layer.kernal_width, hop_length=512, window='ones', center=False)"
   ]
  },
  {
   "cell_type": "code",
   "execution_count": 10,
   "metadata": {},
   "outputs": [],
   "source": [
    "CQT = np.dot(cqt_filter, x_fft)"
   ]
  },
  {
   "cell_type": "code",
   "execution_count": 19,
   "metadata": {},
   "outputs": [
    {
     "data": {
      "text/plain": [
       "[<matplotlib.lines.Line2D at 0x7f399c2c16a0>]"
      ]
     },
     "execution_count": 19,
     "metadata": {},
     "output_type": "execute_result"
    },
    {
     "data": {
      "image/png": "[encoded data removed]",
      "text/plain": [
       "<Figure size 432x288 with 1 Axes>"
      ]
     },
     "metadata": {
      "needs_background": "light"
     },
     "output_type": "display_data"
    }
   ],
   "source": [
    "plt.plot(CQT_layer(torch.tensor(x))[0][:,-400].numpy())\n",
    "plt.plot(abs(CQT)[:,-400])"
   ]
  },
  {
   "cell_type": "code",
   "execution_count": null,
   "metadata": {},
   "outputs": [],
   "source": [
    "a.max()"
   ]
  },
  {
   "cell_type": "code",
   "execution_count": null,
   "metadata": {},
   "outputs": [],
   "source": [
    "a.argmax()"
   ]
  },
  {
   "cell_type": "code",
   "execution_count": null,
   "metadata": {},
   "outputs": [],
   "source": [
    "CQT_GPU[0][3][236].numpy()"
   ]
  },
  {
   "cell_type": "code",
   "execution_count": null,
   "metadata": {},
   "outputs": [],
   "source": [
    "abs(CQT)[3][236]"
   ]
  },
  {
   "cell_type": "code",
   "execution_count": null,
   "metadata": {},
   "outputs": [],
   "source": [
    "\n",
    "plt.plot(CQT_GPU[0][3].numpy()[210:230])\n",
    "plt.plot(abs(CQT)[3][210:230])\n",
    "plt.ylabel('Amplitude')\n",
    "plt.xlabel('Freq bins')\n",
    "plt.legend(['Python', 'Pytorch'])\n",
    "plt.title('Python CPU CQT vs Pytorch CQT')"
   ]
  },
  {
   "cell_type": "code",
   "execution_count": null,
   "metadata": {},
   "outputs": [],
   "source": [
    "np.allclose(fourier_real[0], x_fft.real, 1)"
   ]
  },
  {
   "cell_type": "code",
   "execution_count": null,
   "metadata": {},
   "outputs": [],
   "source": [
    "plt.plot(fourier_real[0][0].numpy())\n",
    "plt.plot(x_fft.real[0])"
   ]
  },
  {
   "cell_type": "code",
   "execution_count": null,
   "metadata": {},
   "outputs": [],
   "source": [
    "counter = 0\n",
    "for i in range(len(x_fft.real)):\n",
    "    a = np.allclose(fourier_real[0][i].numpy(),x_fft.real[i], 1e-4)\n",
    "    if a==True:\n",
    "        counter+=1\n",
    "    print(a)\n",
    "print(\"number of True = \", counter)"
   ]
  },
  {
   "cell_type": "code",
   "execution_count": null,
   "metadata": {},
   "outputs": [],
   "source": [
    "for i in range(len(abs(CQT))):\n",
    "    a = np.allclose(CQT_GPU[0][i], abs(CQT)[i],1)\n",
    "    print(a)"
   ]
  },
  {
   "cell_type": "code",
   "execution_count": null,
   "metadata": {},
   "outputs": [],
   "source": [
    "plt.plot(CQT.real[1][50:100])\n",
    "plt.plot(CQT_real[0][1][50:100].numpy())"
   ]
  },
  {
   "cell_type": "code",
   "execution_count": null,
   "metadata": {},
   "outputs": [],
   "source": [
    "CQT.real[1]"
   ]
  },
  {
   "cell_type": "code",
   "execution_count": null,
   "metadata": {},
   "outputs": [],
   "source": [
    "manual_CQT = np.dot(cqt_filter.real, x_fft.real) - np.dot(cqt_filter.imag, x_fft.imag)"
   ]
  },
  {
   "cell_type": "code",
   "execution_count": null,
   "metadata": {},
   "outputs": [],
   "source": [
    "manual_CQT[0]"
   ]
  },
  {
   "cell_type": "code",
   "execution_count": null,
   "metadata": {},
   "outputs": [],
   "source": [
    "CQT_real[0][1]"
   ]
  },
  {
   "cell_type": "code",
   "execution_count": null,
   "metadata": {},
   "outputs": [],
   "source": [
    "x_fft.shape"
   ]
  },
  {
   "cell_type": "code",
   "execution_count": null,
   "metadata": {},
   "outputs": [],
   "source": [
    "import numpy as np"
   ]
  },
  {
   "cell_type": "code",
   "execution_count": null,
   "metadata": {},
   "outputs": [],
   "source": [
    "a_shape = (3,10)\n",
    "b_shape = (10,3)\n",
    "\n",
    "# Generating the first complex matrix a\n",
    "np.random.seed(0)\n",
    "a_real = np.random.randn(a_shape[0], a_shape[1])\n",
    "np.random.seed(1)\n",
    "a_imag = np.random.randn(a_shape[0], a_shape[1])\n",
    "a = a_real + a_imag*1j\n",
    "\n",
    "# Generating the second complex matrix b\n",
    "np.random.seed(2)\n",
    "b_real = np.random.randn(b_shape[0], b_shape[1])\n",
    "np.random.seed(3)\n",
    "b_imag = np.random.randn(b_shape[0], b_shape[1])\n",
    "b = b_real + b_imag*1j\n",
    "\n",
    "# 1st approach to do complex multiplication\n",
    "output1 = np.dot(a,b)\n",
    "# Manaul complex multiplication\n",
    "output_real = np.dot(a.real,b.real) - np.dot(a.imag,b.imag)"
   ]
  },
  {
   "cell_type": "code",
   "execution_count": null,
   "metadata": {},
   "outputs": [],
   "source": [
    "np.array_equal(output1.real, output_real) # the results are the same"
   ]
  },
  {
   "cell_type": "code",
   "execution_count": null,
   "metadata": {},
   "outputs": [],
   "source": [
    "a_shape = (280,4000)\n",
    "b_shape = (4000,400)\n",
    "\n",
    "# Generating the first complex matrix a\n",
    "np.random.seed(0)\n",
    "a_real = np.random.randn(a_shape[0], a_shape[1])\n",
    "np.random.seed(1)\n",
    "a_imag = np.random.randn(a_shape[0], a_shape[1])\n",
    "a = a_real + a_imag*1j\n",
    "\n",
    "# Generating the second complex matrix b\n",
    "np.random.seed(2)\n",
    "b_real = np.random.randn(b_shape[0], b_shape[1])\n",
    "np.random.seed(3)\n",
    "b_imag = np.random.randn(b_shape[0], b_shape[1])\n",
    "b = b_real + b_imag*1j\n",
    "\n",
    "# 1st approach to do complex multiplication\n",
    "output1 = np.dot(a,b)\n",
    "# 2nd approach to do complex multiplication\n",
    "output_real = np.matmul(a.real,b.real) - np.matmul(a.imag,b.imag)"
   ]
  },
  {
   "cell_type": "code",
   "execution_count": null,
   "metadata": {},
   "outputs": [],
   "source": [
    "np.allclose(output1.real, output_real)"
   ]
  },
  {
   "cell_type": "code",
   "execution_count": null,
   "metadata": {},
   "outputs": [],
   "source": [
    "import torch"
   ]
  },
  {
   "cell_type": "code",
   "execution_count": null,
   "metadata": {},
   "outputs": [],
   "source": [
    "a_torch_real = torch.tensor(a.real)\n",
    "a_torch_imag = torch.tensor(a.imag)\n",
    "\n",
    "b_torch_real = torch.tensor(b.real)\n",
    "b_torch_imag = torch.tensor(b.imag)"
   ]
  },
  {
   "cell_type": "code",
   "execution_count": null,
   "metadata": {},
   "outputs": [],
   "source": [
    "output_torch_real = torch.matmul(a_torch_real,b_torch_real) - torch.matmul(a_torch_imag, b_torch_imag)"
   ]
  },
  {
   "cell_type": "code",
   "execution_count": null,
   "metadata": {},
   "outputs": [],
   "source": [
    "np.allclose(output_torch_real, output_real)"
   ]
  },
  {
   "cell_type": "code",
   "execution_count": null,
   "metadata": {},
   "outputs": [],
   "source": [
    "np.allclose(output_torch_real, output1.real)"
   ]
  },
  {
   "cell_type": "code",
   "execution_count": null,
   "metadata": {},
   "outputs": [],
   "source": []
  }
 ],
 "metadata": {
  "kernelspec": {
   "display_name": "Python 3",
   "language": "python",
   "name": "python3"
  },
  "language_info": {
   "codemirror_mode": {
    "name": "ipython",
    "version": 3
   },
   "file_extension": ".py",
   "mimetype": "text/x-python",
   "name": "python",
   "nbconvert_exporter": "python",
   "pygments_lexer": "ipython3",
   "version": "3.6.8"
  }
 },
 "nbformat": 4,
 "nbformat_minor": 2
}
