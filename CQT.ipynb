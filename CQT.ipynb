{
 "cells": [
  {
   "cell_type": "code",
   "execution_count": 1,
   "metadata": {},
   "outputs": [],
   "source": [
    "import Spectrogram\n",
    "from librosa.core import note_to_hz, cqt\n",
    "from librosa import filters\n",
    "import numpy as np\n",
    "import matplotlib.pyplot as plt\n",
    "from time import time\n",
    "\n",
    "import torch"
   ]
  },
  {
   "cell_type": "code",
   "execution_count": 2,
   "metadata": {},
   "outputs": [],
   "source": [
    "# parameters\n",
    "# nargin = 6\n",
    "bins = 12 # bins per octave\n",
    "fs = 22050 # sampling rate\n",
    "n_bins = 80\n",
    "# fmax = 61.73541266 # same as 1 octave\n",
    "# fmax = 880*2\n",
    "fmin = note_to_hz('C1')\n",
    "thresh= 0.0054\n",
    "\n",
    "stride = 512\n",
    "\n",
    "s = np.linspace(0,10,fs*10)\n",
    "x = np.sin(2*np.pi*100*s, dtype=np.float32) + np.sin(2*np.pi*200*s, dtype=np.float32) \\\n",
    "    + np.sin(2*np.pi*800*s, dtype=np.float32) + np.sin(2*np.pi*1600*s, dtype=np.float32)  "
   ]
  },
  {
   "cell_type": "code",
   "execution_count": 3,
   "metadata": {},
   "outputs": [],
   "source": [
    "def cqt_filter_fft(sr, fmin, n_bins, bins_per_octave, tuning,\n",
    "                     filter_scale, norm, sparsity, hop_length=None,\n",
    "                     window='hann'):\n",
    "    '''Generate the frequency domain constant-Q filter basis.'''\n",
    "\n",
    "    basis, lengths = filters.constant_q(sr,\n",
    "                                        fmin=fmin,\n",
    "                                        n_bins=n_bins,\n",
    "                                        bins_per_octave=bins_per_octave,\n",
    "                                        tuning=tuning,\n",
    "                                        filter_scale=filter_scale,\n",
    "                                        norm=norm,\n",
    "                                        pad_fft=True,\n",
    "                                        window=window)\n",
    "\n",
    "    # Filters are padded up to the nearest integral power of 2\n",
    "    n_fft = basis.shape[1]\n",
    "\n",
    "    if (hop_length is not None and\n",
    "            n_fft < 2.0**(1 + np.ceil(np.log2(hop_length)))):\n",
    "\n",
    "        n_fft = int(2.0 ** (1 + np.ceil(np.log2(hop_length))))\n",
    "\n",
    "    # re-normalize bases with respect to the FFT window length\n",
    "    basis *= lengths[:, np.newaxis] / float(n_fft)\n",
    "\n",
    "    # FFT and retain only the non-negative frequencies\n",
    "    fft = get_fftlib()\n",
    "    fft_basis = fft.fft(basis, n=n_fft, axis=1)[:, :(n_fft // 2)+1]\n",
    "\n",
    "    # sparsify the basis\n",
    "    fft_basis = util.sparsify_rows(fft_basis, quantile=sparsity)\n",
    "\n",
    "    return fft_basis, n_fft, lengths, basis"
   ]
  },
  {
   "cell_type": "markdown",
   "metadata": {},
   "source": [
    "# Pytorch"
   ]
  },
  {
   "cell_type": "code",
   "execution_count": 4,
   "metadata": {},
   "outputs": [
    {
     "name": "stdout",
     "output_type": "stream",
     "text": [
      "Time used to initialize CQT kernels =  0.10390377044677734\n",
      "Time used to initialize FFT kernels = 12.39635968208313, n_fft = 16384\n",
      "Time used to initialize CQT kernels =  12.537390232086182\n"
     ]
    }
   ],
   "source": [
    "start = time()\n",
    "CQT_layer = Spectrogram.CQT1992(fs, stride, fmin, fmax=None, n_bins=n_bins,\n",
    "                        bins_per_octave=bins, norm=None,center=True,\n",
    "                        pad_mode='reflect')\n",
    "print(\"Time used to initialize CQT kernels = \", time()-start)"
   ]
  },
  {
   "cell_type": "code",
   "execution_count": 5,
   "metadata": {},
   "outputs": [
    {
     "name": "stdout",
     "output_type": "stream",
     "text": [
      "Getting arg done\n",
      "keyFrequencies =  [0.0, 0.4995004995004996, 0.5005, 1.0]\n",
      "Getting lowpass_filter done\n",
      "Getting cqt kernel done, n_fft =  256\n",
      "Getting FFT kernel done\n"
     ]
    }
   ],
   "source": [
    "CQT_layer2 = Spectrogram.CQT2010(fs, stride, fmin, fmax=None, n_bins=n_bins,\n",
    "                        bins_per_octave=bins,center=True,\n",
    "                        pad_mode='reflect', earlydownsample=False)"
   ]
  },
  {
   "cell_type": "code",
   "execution_count": 6,
   "metadata": {},
   "outputs": [],
   "source": [
    "cqt_torch = CQT_layer(torch.tensor(x))"
   ]
  },
  {
   "cell_type": "code",
   "execution_count": 7,
   "metadata": {},
   "outputs": [
    {
     "name": "stdout",
     "output_type": "stream",
     "text": [
      "downsample True or not? False\n",
      "First CQT done\n",
      "0\n",
      "torch.Size([1, 1, 110250])\n",
      "1\n",
      "torch.Size([1, 1, 55125])\n",
      "2\n",
      "torch.Size([1, 1, 27562])\n",
      "3\n",
      "torch.Size([1, 1, 13781])\n",
      "4\n",
      "torch.Size([1, 1, 6890])\n",
      "5\n",
      "torch.Size([1, 1, 3445])\n"
     ]
    }
   ],
   "source": [
    "cqt_torch2 = CQT_layer2(torch.tensor(x))"
   ]
  },
  {
   "cell_type": "code",
   "execution_count": 8,
   "metadata": {},
   "outputs": [
    {
     "data": {
      "image/png": "[encoded data removed]",
      "text/plain": [
       "<Figure size 432x288 with 1 Axes>"
      ]
     },
     "metadata": {
      "needs_background": "light"
     },
     "output_type": "display_data"
    }
   ],
   "source": [
    "plt.imshow(cqt_torch[0].numpy(),aspect='auto', origin='lower')\n",
    "plt.tick_params(labelsize=16)"
   ]
  },
  {
   "cell_type": "markdown",
   "metadata": {},
   "source": [
    "# Librosa"
   ]
  },
  {
   "cell_type": "code",
   "execution_count": 9,
   "metadata": {},
   "outputs": [],
   "source": [
    "from librosa.core import cqt"
   ]
  },
  {
   "cell_type": "code",
   "execution_count": 10,
   "metadata": {},
   "outputs": [],
   "source": [
    "cqt_lib = cqt(x, fs, stride, fmin, n_bins=n_bins,\n",
    "              bins_per_octave=bins, norm=None)"
   ]
  },
  {
   "cell_type": "code",
   "execution_count": 11,
   "metadata": {},
   "outputs": [
    {
     "data": {
      "text/plain": [
       "<matplotlib.image.AxesImage at 0x7f50e0592668>"
      ]
     },
     "execution_count": 11,
     "metadata": {},
     "output_type": "execute_result"
    },
    {
     "data": {
      "image/png": "[encoded data removed]",
      "text/plain": [
       "<Figure size 432x288 with 1 Axes>"
      ]
     },
     "metadata": {
      "needs_background": "light"
     },
     "output_type": "display_data"
    }
   ],
   "source": [
    "plt.imshow(abs(cqt_lib),aspect='auto', origin='lower')"
   ]
  },
  {
   "cell_type": "code",
   "execution_count": 12,
   "metadata": {},
   "outputs": [
    {
     "data": {
      "text/plain": [
       "<matplotlib.legend.Legend at 0x7f50e04fe898>"
      ]
     },
     "execution_count": 12,
     "metadata": {},
     "output_type": "execute_result"
    },
    {
     "data": {
      "image/png": "[encoded data removed]",
      "text/plain": [
       "<Figure size 432x288 with 1 Axes>"
      ]
     },
     "metadata": {
      "needs_background": "light"
     },
     "output_type": "display_data"
    }
   ],
   "source": [
    "plt.plot(cqt_torch[0].numpy()[:,29])\n",
    "# plt.plot(abs(cqt_lib)[:,29], 'r--')\n",
    "plt.plot(cqt_torch2[0].numpy()[:,29], 'g--')\n",
    "plt.legend(['pytorch', 'librosa'])"
   ]
  },
  {
   "cell_type": "code",
   "execution_count": null,
   "metadata": {},
   "outputs": [],
   "source": []
  },
  {
   "cell_type": "code",
   "execution_count": null,
   "metadata": {},
   "outputs": [],
   "source": []
  }
 ],
 "metadata": {
  "kernelspec": {
   "display_name": "Python 3",
   "language": "python",
   "name": "python3"
  },
  "language_info": {
   "codemirror_mode": {
    "name": "ipython",
    "version": 3
   },
   "file_extension": ".py",
   "mimetype": "text/x-python",
   "name": "python",
   "nbconvert_exporter": "python",
   "pygments_lexer": "ipython3",
   "version": "3.6.8"
  }
 },
 "nbformat": 4,
 "nbformat_minor": 2
}
