{
 "cells": [
  {
   "cell_type": "code",
   "execution_count": 77,
   "metadata": {},
   "outputs": [],
   "source": [
    "import numpy as np\n",
    "from scipy import fft\n",
    "from scipy.sparse import csr_matrix\n",
    "from scipy.io.wavfile import read\n",
    "from librosa.core import note_to_hz\n",
    "import matplotlib.pyplot as plt\n",
    "from scipy.signal import get_window\n",
    "import scipy\n",
    "import filters\n",
    "\n",
    "import torch\n",
    "import torch.nn as nn\n",
    "from torch.nn.functional import conv1d\n",
    "from librosa import stft\n",
    "\n",
    "# parameters\n",
    "# nargin = 6\n",
    "bins = 24 # bins per octave\n",
    "fs = 22050 # sampling rate\n",
    "\n",
    "# fmax = 61.73541266 # same as 1 octave\n",
    "fmax = 880\n",
    "fmin = note_to_hz('A3')\n",
    "thresh= 0.0054\n",
    "\n",
    "stride = 512\n",
    "\n",
    "s = np.linspace(0,10,fs*10)\n",
    "x = np.sin(2*np.pi*450*s, dtype=np.float32) + np.sin(2*np.pi*500*s, dtype=np.float32) +np.sin(2*np.pi*600*s, dtype=np.float32) \n",
    "\n",
    "def nextpow2(A):\n",
    "    return int(np.ceil(np.log2(A)))\n",
    "\n",
    "def create_cqt_kernals(fmin, fmax, bins, fs, window):\n",
    "    Q = 1/(2**(1/bins)-1)\n",
    "    K = np.ceil(bins * np.log2(fmax / fmin)) # Calculate the number of bins\n",
    "    fftLen = 2**nextpow2(np.ceil(Q * fs / fmin))\n",
    "    minWin = 2**nextpow2(np.ceil(Q * fs / fmax))\n",
    "    tempKernel = np.zeros((int(K), int(fftLen)), dtype=np.complex64)\n",
    "    specKernel = np.zeros((int(K), int(fftLen)), dtype=np.complex64)\n",
    "    freqs = fmin * 2.0 ** (np.r_[0:K] / np.float(bins))\n",
    "    for k in range(0, int(K)):\n",
    "        freq = freqs[k]\n",
    "        l = np.ceil(Q * fs / freq)\n",
    "        if l%2==1: # pad more zeros on RHS\n",
    "            start = int(np.ceil(fftLen / 2.0 - l / 2.0))-1\n",
    "        else:\n",
    "            start = int(np.ceil(fftLen / 2.0 - l / 2.0))\n",
    "        tempKernel[k, start:start + int(l)] = get_window(window,int(l), fftbins=True)*np.exp(np.r_[-l//2:l//2]*1j*2*np.pi*freq/fs)/l\n",
    "        # specKernel[k, :]=fft(conj(tempKernel[k, :]))\n",
    "        specKernel[k, :] = fft(tempKernel[k])\n",
    "        \n",
    "    return specKernel[:,:fftLen//2+1], fftLen\n",
    "\n",
    "cqt_filter, kernal_width = create_cqt_kernals(fmin, fmax, bins, fs, 'hann')\n",
    "cqt_filter_real = torch.tensor(cqt_filter.real)\n",
    "cqt_filter_imag = torch.tensor(cqt_filter.imag)\n",
    "\n",
    "wsin, wcos = filters.create_fourier_kernals(kernal_width, windowing=\"no\", freq_scale='no')"
   ]
  },
  {
   "cell_type": "code",
   "execution_count": 78,
   "metadata": {},
   "outputs": [],
   "source": [
    "x_gpu = torch.tensor(x)\n",
    "wsin = torch.tensor(wsin)\n",
    "wcos = torch.tensor(wcos)"
   ]
  },
  {
   "cell_type": "code",
   "execution_count": 79,
   "metadata": {},
   "outputs": [],
   "source": [
    "fourier_real = conv1d(x_gpu[None,None,:], wcos, stride=stride)\n",
    "fourier_imag = conv1d(x_gpu[None,None,:], wsin, stride=stride) # Doing STFT by using conv1d"
   ]
  },
  {
   "cell_type": "code",
   "execution_count": 4,
   "metadata": {},
   "outputs": [],
   "source": [
    "def complex_mul(cqt_filter, stft):\n",
    "    cqt_filter_real = cqt_filter[0]\n",
    "    cqt_filter_imag = cqt_filter[1]\n",
    "    fourier_real = stft[0]\n",
    "    fourier_imag = stft[1]\n",
    "    \n",
    "    CQT_real = torch.matmul(cqt_filter_real, fourier_real) - torch.matmul(cqt_filter_imag, fourier_imag)\n",
    "    CQT_imag = torch.matmul(cqt_filter_real, fourier_imag) + torch.matmul(cqt_filter_imag, fourier_real)   \n",
    "    \n",
    "    return CQT_real, CQT_imag"
   ]
  },
  {
   "cell_type": "markdown",
   "metadata": {},
   "source": [
    "# GPU implmentation"
   ]
  },
  {
   "cell_type": "code",
   "execution_count": 81,
   "metadata": {},
   "outputs": [],
   "source": [
    "CQT_real, CQT_imag = complex_mul((cqt_filter_real, cqt_filter_imag), (fourier_real, fourier_imag))"
   ]
  },
  {
   "cell_type": "code",
   "execution_count": 82,
   "metadata": {},
   "outputs": [],
   "source": [
    "CQT_GPU = torch.sqrt(CQT_real.pow(2)+CQT_imag.pow(2))"
   ]
  },
  {
   "cell_type": "code",
   "execution_count": 83,
   "metadata": {},
   "outputs": [
    {
     "data": {
      "text/plain": [
       "<matplotlib.image.AxesImage at 0x7f49d7eec748>"
      ]
     },
     "execution_count": 83,
     "metadata": {},
     "output_type": "execute_result"
    },
    {
     "data": {
      "image/png": "[encoded data removed]",
      "text/plain": [
       "<Figure size 432x288 with 1 Axes>"
      ]
     },
     "metadata": {
      "needs_background": "light"
     },
     "output_type": "display_data"
    }
   ],
   "source": [
    "plt.imshow(CQT_GPU[0],aspect='auto', origin='lower')"
   ]
  },
  {
   "cell_type": "markdown",
   "metadata": {},
   "source": [
    "# CPU implementation"
   ]
  },
  {
   "cell_type": "code",
   "execution_count": 84,
   "metadata": {},
   "outputs": [],
   "source": [
    "x_fft = stft(x, kernal_width, hop_length=512, window='ones', center=False)"
   ]
  },
  {
   "cell_type": "code",
   "execution_count": 85,
   "metadata": {},
   "outputs": [],
   "source": [
    "CQT = np.dot(cqt_filter, x_fft)"
   ]
  },
  {
   "cell_type": "code",
   "execution_count": 86,
   "metadata": {},
   "outputs": [
    {
     "data": {
      "text/plain": [
       "[<matplotlib.lines.Line2D at 0x7f4a73287e48>]"
      ]
     },
     "execution_count": 86,
     "metadata": {},
     "output_type": "execute_result"
    },
    {
     "data": {
      "image/png": "[encoded data removed]",
      "text/plain": [
       "<Figure size 432x288 with 1 Axes>"
      ]
     },
     "metadata": {
      "needs_background": "light"
     },
     "output_type": "display_data"
    }
   ],
   "source": [
    "plt.plot(CQT_GPU[0][:,-10].numpy())\n",
    "plt.plot(abs(CQT)[:,-10])"
   ]
  },
  {
   "cell_type": "code",
   "execution_count": 114,
   "metadata": {},
   "outputs": [],
   "source": [
    "a = CQT_GPU[0][3].numpy() - abs(CQT)[3]"
   ]
  },
  {
   "cell_type": "code",
   "execution_count": 116,
   "metadata": {},
   "outputs": [
    {
     "data": {
      "text/plain": [
       "0.00035916595"
      ]
     },
     "execution_count": 116,
     "metadata": {},
     "output_type": "execute_result"
    }
   ],
   "source": [
    "a.max()"
   ]
  },
  {
   "cell_type": "code",
   "execution_count": 103,
   "metadata": {},
   "outputs": [
    {
     "data": {
      "text/plain": [
       "236"
      ]
     },
     "execution_count": 103,
     "metadata": {},
     "output_type": "execute_result"
    }
   ],
   "source": [
    "a.argmax()"
   ]
  },
  {
   "cell_type": "code",
   "execution_count": 104,
   "metadata": {},
   "outputs": [
    {
     "data": {
      "text/plain": [
       "array(0.00795012, dtype=float32)"
      ]
     },
     "execution_count": 104,
     "metadata": {},
     "output_type": "execute_result"
    }
   ],
   "source": [
    "CQT_GPU[0][3][236].numpy()"
   ]
  },
  {
   "cell_type": "code",
   "execution_count": 105,
   "metadata": {},
   "outputs": [
    {
     "data": {
      "text/plain": [
       "0.0075909547"
      ]
     },
     "execution_count": 105,
     "metadata": {},
     "output_type": "execute_result"
    }
   ],
   "source": [
    "abs(CQT)[3][236]"
   ]
  },
  {
   "cell_type": "code",
   "execution_count": 119,
   "metadata": {},
   "outputs": [
    {
     "data": {
      "text/plain": [
       "Text(0.5, 1.0, 'Python CPU CQT vs Pytorch CQT')"
      ]
     },
     "execution_count": 119,
     "metadata": {},
     "output_type": "execute_result"
    },
    {
     "data": {
      "image/png": "[encoded data removed]",
      "text/plain": [
       "<Figure size 432x288 with 1 Axes>"
      ]
     },
     "metadata": {
      "needs_background": "light"
     },
     "output_type": "display_data"
    }
   ],
   "source": [
    "\n",
    "plt.plot(CQT_GPU[0][3].numpy()[210:230])\n",
    "plt.plot(abs(CQT)[3][210:230])\n",
    "plt.ylabel('Amplitude')\n",
    "plt.xlabel('Freq bins')\n",
    "plt.legend(['Python', 'Pytorch'])\n",
    "plt.title('Python CPU CQT vs Pytorch CQT')"
   ]
  },
  {
   "cell_type": "code",
   "execution_count": 96,
   "metadata": {},
   "outputs": [
    {
     "name": "stdout",
     "output_type": "stream",
     "text": [
      "True\n",
      "True\n",
      "True\n",
      "False\n",
      "True\n",
      "True\n",
      "True\n",
      "True\n",
      "True\n",
      "True\n",
      "True\n",
      "True\n",
      "True\n",
      "True\n",
      "True\n",
      "True\n",
      "True\n",
      "True\n",
      "True\n",
      "True\n",
      "True\n",
      "True\n",
      "True\n",
      "True\n",
      "True\n",
      "True\n",
      "True\n",
      "True\n",
      "True\n",
      "True\n",
      "True\n",
      "True\n",
      "True\n",
      "True\n",
      "True\n",
      "True\n",
      "True\n",
      "True\n",
      "True\n",
      "True\n",
      "True\n",
      "True\n",
      "True\n",
      "True\n",
      "True\n",
      "True\n",
      "True\n",
      "True\n"
     ]
    }
   ],
   "source": [
    "for i in range(len(abs(CQT))):\n",
    "    a = np.allclose(CQT_GPU[0][i], abs(CQT)[i],1)\n",
    "    print(a)"
   ]
  },
  {
   "cell_type": "code",
   "execution_count": 129,
   "metadata": {},
   "outputs": [
    {
     "data": {
      "text/plain": [
       "[<matplotlib.lines.Line2D at 0x7f49d7381710>]"
      ]
     },
     "execution_count": 129,
     "metadata": {},
     "output_type": "execute_result"
    },
    {
     "data": {
      "image/png": "[encoded data removed]",
      "text/plain": [
       "<Figure size 432x288 with 1 Axes>"
      ]
     },
     "metadata": {
      "needs_background": "light"
     },
     "output_type": "display_data"
    }
   ],
   "source": [
    "plt.plot(CQT.real[1][50:100])\n",
    "plt.plot(CQT_real[0][1][50:100].numpy())"
   ]
  },
  {
   "cell_type": "code",
   "execution_count": 130,
   "metadata": {},
   "outputs": [
    {
     "data": {
      "text/plain": [
       "array([-4.12438484e-03,  9.15643573e-03, -7.80637516e-03,  8.92673526e-03,\n",
       "       -6.93750475e-03,  6.48925779e-04,  1.22867804e-03, -6.57858839e-03,\n",
       "        6.05718791e-03, -8.82385857e-03,  5.35865035e-03, -3.71712074e-03,\n",
       "        4.37770458e-03, -1.99578027e-03,  4.04783618e-03, -1.55857787e-03,\n",
       "        3.71691352e-03,  7.70883868e-04, -3.48627032e-03,  5.75053599e-03,\n",
       "       -1.03680650e-02,  9.40245483e-03, -1.00911660e-02,  3.90171073e-03,\n",
       "       -2.48220074e-03, -2.11110129e-03,  4.79049515e-03, -4.21379367e-03,\n",
       "        5.89192053e-03, -2.73114280e-03,  5.54308156e-03, -2.93300510e-03,\n",
       "        5.10205189e-03, -6.65521575e-03,  5.32304123e-03, -4.05908143e-03,\n",
       "       -1.27331563e-03,  2.11542705e-03, -9.17240418e-03,  9.27978475e-03,\n",
       "       -9.19887889e-03,  8.08646902e-03, -4.48088162e-03,  2.72117974e-03,\n",
       "        3.28097213e-03, -2.78137391e-04,  2.34414195e-03, -2.15420965e-03,\n",
       "        2.17307778e-03, -4.42036893e-03,  5.10385493e-03, -9.06819478e-03,\n",
       "        6.09612325e-03, -8.32678936e-03,  4.09436366e-03,  2.43601942e-04,\n",
       "       -4.21056710e-03,  8.94400105e-03, -6.80959923e-03,  9.28662345e-03,\n",
       "       -5.65667264e-03,  4.65506781e-03, -1.59125298e-03,  8.79358675e-04,\n",
       "       -1.88158767e-03, -6.33373042e-04, -1.94939307e-03, -2.97589973e-03,\n",
       "        4.30746842e-03, -7.45929405e-03,  8.89406167e-03, -9.30031482e-03,\n",
       "        9.10274312e-03, -1.56626664e-03,  5.68728894e-04,  4.75467183e-03,\n",
       "       -5.65988943e-03,  6.50931941e-03, -6.26447890e-03,  3.66962817e-03,\n",
       "       -5.17755141e-03,  2.03908258e-03, -4.99310717e-03,  3.67517117e-03,\n",
       "       -4.26938338e-03,  1.14979013e-03,  3.52777424e-03, -3.16365925e-03,\n",
       "        9.97699797e-03, -1.10811209e-02,  9.59545001e-03, -4.98220883e-03,\n",
       "        3.31182894e-03,  2.25833821e-04, -4.21587424e-03,  1.96620240e-03,\n",
       "       -5.10943867e-03,  2.79451930e-03, -3.86773073e-03,  3.80758010e-03,\n",
       "       -4.70211636e-03,  8.26828834e-03, -5.54346154e-03,  6.02408079e-03,\n",
       "       -6.47570298e-04, -4.34283458e-04,  6.68322761e-03, -9.78872832e-03,\n",
       "        8.36403761e-03, -8.97777826e-03,  4.87833703e-03, -2.43214401e-03,\n",
       "       -4.44416306e-04, -3.16980900e-03, -2.14259024e-03,  3.07944813e-03,\n",
       "        7.39669369e-04,  6.54899888e-03, -3.58100841e-03,  6.93209423e-03,\n",
       "       -9.38916486e-03,  7.85832107e-03, -7.65998987e-03,  1.36056298e-03,\n",
       "        4.52470640e-03, -6.91701379e-03,  5.58890775e-03, -7.84722157e-03,\n",
       "        3.82184796e-03, -7.21892156e-03,  6.68381946e-03,  1.95333804e-03,\n",
       "        2.36672652e-03, -1.59991218e-03,  4.84688208e-03,  1.33473042e-03,\n",
       "       -6.36325218e-03,  4.70979139e-03, -1.04731089e-02,  1.07450355e-02,\n",
       "       -7.20778154e-03,  3.31765809e-03, -4.26495355e-03, -1.78833515e-03,\n",
       "        6.38761977e-03, -8.03761836e-03,  5.76704741e-03,  1.59965042e-04,\n",
       "        7.69336708e-03, -3.51453596e-03,  3.11466609e-03, -7.37695210e-03,\n",
       "        3.90008115e-03, -2.42089317e-03, -2.42369343e-03,  2.49059941e-03,\n",
       "       -6.34819129e-03,  9.78901237e-03, -1.14576500e-02,  8.31780024e-03,\n",
       "       -3.06685409e-03,  3.78525117e-04,  4.00406355e-03,  1.96104287e-03,\n",
       "        3.30802961e-03, -5.05887298e-03,  2.83963722e-03, -4.54754755e-03,\n",
       "        2.26293714e-03, -9.16212611e-03,  7.40777887e-03, -5.99830132e-03,\n",
       "        5.38914418e-03,  2.79784290e-04, -7.83138070e-03,  8.21334682e-03,\n",
       "       -5.38845174e-03,  9.92954895e-03, -6.09963993e-03,  6.43312279e-03,\n",
       "        8.05327261e-04, -1.74424960e-03, -4.39569121e-03, -4.30307863e-03,\n",
       "        2.40891124e-03,  1.20590092e-03,  7.14707421e-04, -5.99036738e-03,\n",
       "        1.15467943e-02, -1.30350515e-02,  7.85114802e-03, -1.99637469e-03,\n",
       "        4.39894284e-05,  8.95750709e-03, -7.56634399e-03,  6.62552286e-03,\n",
       "       -3.15867225e-03, -2.93009187e-04, -8.28897022e-03,  5.34109166e-03,\n",
       "       -6.33156486e-03,  2.10847426e-03,  2.62810523e-03, -2.28716969e-03,\n",
       "        3.07810353e-03,  4.27920786e-05,  4.39369632e-03, -1.02402987e-02,\n",
       "        1.61871128e-02, -7.75505649e-03,  2.43217009e-03,  1.24902430e-03,\n",
       "       -8.64604488e-03,  4.06129891e-03, -5.06999483e-03,  6.38552185e-04,\n",
       "        5.40341571e-05,  6.71140198e-03, -8.05313513e-03,  8.57103709e-03,\n",
       "       -8.29643384e-03,  2.30777310e-03,  5.51990326e-03, -2.66414159e-03,\n",
       "        3.01464088e-03, -5.39201451e-03,  7.01658707e-03, -1.19300066e-02,\n",
       "        1.05362879e-02, -3.49600753e-03, -4.03479952e-03,  9.74804745e-04,\n",
       "       -4.50988207e-03,  3.94779630e-03,  7.45567842e-04,  1.79421913e-03,\n",
       "       -8.77432467e-04,  1.06346877e-02, -1.06678847e-02,  8.62991530e-03,\n",
       "       -7.53338169e-03, -2.67997733e-03,  6.41646376e-03, -8.61084554e-03,\n",
       "        3.22024012e-03, -2.57482077e-03,  6.61871443e-03, -9.07189399e-03,\n",
       "        8.88392143e-03, -2.47044885e-03, -1.00621791e-03,  6.96032634e-03,\n",
       "        1.42871472e-03, -2.04955786e-03, -3.21966875e-03,  4.37463121e-03,\n",
       "       -1.10001462e-02,  1.00320531e-02, -1.01966634e-02,  6.27745362e-03,\n",
       "        5.96601574e-04, -7.61765242e-03,  6.58298330e-03, -4.71289502e-03,\n",
       "        3.39800376e-03, -1.10187591e-03,  6.79246942e-03, -3.87945888e-03,\n",
       "        8.32249783e-03, -6.42255088e-03, -1.36615429e-03,  1.36533100e-03,\n",
       "       -2.59102788e-03, -1.90421741e-03, -3.04364320e-03,  1.04618678e-02,\n",
       "       -1.34596126e-02,  1.26040680e-02, -5.91555052e-03, -3.21103114e-04,\n",
       "        8.27541482e-03, -3.89525667e-03,  3.54105793e-03,  1.91537023e-04,\n",
       "        1.31290930e-03, -8.08669534e-03,  3.02504748e-03, -9.51445010e-03,\n",
       "        8.39479547e-03, -5.37017314e-03,  1.03052566e-03,  6.24520238e-03,\n",
       "       -4.86533623e-03,  4.25211107e-03, -7.43116625e-03,  1.13286627e-02,\n",
       "       -6.01378875e-03,  7.60871125e-03, -2.26991088e-03, -4.00755368e-03,\n",
       "        4.71119350e-03, -5.54959523e-03, -4.31339908e-03,  3.75178200e-03,\n",
       "        3.13387858e-03, -9.86681692e-03,  1.32353753e-02, -1.03841908e-02,\n",
       "        6.54683588e-03,  1.29181053e-03, -3.10864579e-03,  5.79683390e-03,\n",
       "       -1.09050237e-03,  6.65585278e-03, -1.04690781e-02,  4.36086580e-03,\n",
       "       -7.28848716e-03,  9.09111463e-04, -4.10965690e-03,  1.26038410e-03,\n",
       "        4.60302224e-03,  8.01437709e-04, -7.77518289e-05, -2.46680574e-03,\n",
       "        9.20031685e-03, -1.04817655e-02,  1.30702183e-02, -7.94743281e-03,\n",
       "        1.02462235e-03,  6.29206840e-03, -9.42668971e-03, -5.09540085e-04,\n",
       "       -4.50826861e-04,  1.26862281e-03, -5.94853703e-03,  9.19220317e-03,\n",
       "       -5.67977410e-03,  5.29409619e-03, -1.76620716e-03,  1.64388807e-03,\n",
       "       -1.22375903e-03,  6.62186998e-04,  5.43905841e-03, -8.73442646e-03,\n",
       "        1.21946996e-02, -1.22368438e-02,  3.42281512e-03, -5.26866084e-03,\n",
       "       -2.19123671e-03,  5.27458824e-03, -3.46351089e-03,  2.87247868e-03,\n",
       "        4.84124804e-03,  4.16900218e-03, -9.40313935e-03,  1.08697144e-02,\n",
       "       -8.74903705e-03,  6.45137811e-03,  1.18838252e-04, -5.54828811e-03,\n",
       "        5.69258642e-04, -2.53443420e-03,  3.08137317e-03, -1.22091686e-02,\n",
       "        1.12573477e-02, -4.03525960e-03,  4.07661917e-03,  2.14983616e-03,\n",
       "       -1.33423542e-03, -1.08128326e-04,  7.31201749e-03,  4.14614147e-03,\n",
       "       -9.85055696e-03,  5.74833481e-03, -4.50567063e-03,  3.93246114e-03,\n",
       "       -1.05685536e-02,  8.18685070e-03, -6.47168886e-03, -2.53250659e-03,\n",
       "        1.42542934e-02, -7.53438007e-03,  8.30470957e-03, -3.16456216e-03,\n",
       "        2.24633212e-03, -1.30715140e-03,  2.79179099e-03, -6.57871040e-03,\n",
       "        5.65931480e-03,  2.00652191e-03, -5.11401519e-03,  3.13909468e-03,\n",
       "       -1.15340557e-02,  8.38821568e-03, -3.88157088e-03,  3.04873963e-03,\n",
       "       -4.96529276e-03,  8.28119926e-03,  1.06289727e-03, -6.02417905e-03,\n",
       "        6.56156009e-03, -9.04389471e-03,  5.31829847e-03, -6.27104775e-04,\n",
       "       -3.74280149e-04, -6.83062989e-03,  8.75333417e-03, -1.19589996e-02,\n",
       "        2.86417827e-03,  4.35400987e-03, -6.19278103e-03,  1.25169083e-02,\n",
       "       -4.72511351e-03,  9.19801276e-03, -5.78789273e-03,  1.94201595e-03,\n",
       "       -4.55331989e-03,  1.14942959e-03,  2.31117639e-03, -4.45300015e-03,\n",
       "        3.77875264e-03, -5.66229783e-03,  3.22757359e-03], dtype=float32)"
      ]
     },
     "execution_count": 130,
     "metadata": {},
     "output_type": "execute_result"
    }
   ],
   "source": [
    "CQT.real[1]"
   ]
  },
  {
   "cell_type": "code",
   "execution_count": 136,
   "metadata": {},
   "outputs": [],
   "source": [
    "manual_CQT = np.dot(cqt_filter.real, x_fft.real) - np.dot(cqt_filter.imag, x_fft.imag)"
   ]
  },
  {
   "cell_type": "code",
   "execution_count": 138,
   "metadata": {},
   "outputs": [
    {
     "data": {
      "text/plain": [
       "array([-4.16480610e-03,  7.99066573e-03, -8.56855139e-03,  8.85130372e-03,\n",
       "       -6.54618349e-03,  1.34781667e-03,  2.64327298e-03, -5.61876129e-03,\n",
       "        7.10721314e-03, -7.10272789e-03,  4.60710423e-03, -2.46113958e-03,\n",
       "        2.26990250e-03, -1.95905985e-03,  2.76490743e-03, -3.35649913e-03,\n",
       "        3.65868909e-03, -8.78110877e-04, -2.63000024e-03,  5.84704615e-03,\n",
       "       -9.02229454e-03,  1.03138303e-02, -8.32589343e-03,  4.65675909e-03,\n",
       "       -1.06648845e-03, -2.55276170e-03,  4.76345746e-03, -4.58148587e-03,\n",
       "        3.73669388e-03, -2.31121993e-03,  2.66090571e-03, -2.77334126e-03,\n",
       "        4.19723708e-03, -6.28824905e-03,  6.51201792e-03, -3.70584335e-03,\n",
       "        9.39185964e-04,  3.08668264e-03, -7.76617555e-03,  9.66534112e-03,\n",
       "       -8.91343318e-03,  6.78953389e-03, -4.06250916e-03,  4.76318208e-04,\n",
       "        2.34264228e-03, -1.64721650e-03,  9.76998941e-04, -1.54972682e-03,\n",
       "        7.41025957e-04, -2.19429145e-03,  5.17178187e-03, -7.55783170e-03,\n",
       "        7.54925376e-03, -7.79539905e-03,  4.42754338e-03,  1.39527401e-07,\n",
       "       -4.59524710e-03,  7.79577019e-03, -8.12551845e-03,  7.13152997e-03,\n",
       "       -5.40192751e-03,  2.49696267e-03, -4.51686938e-04,  9.65848740e-04,\n",
       "       -1.08339824e-03,  1.58231030e-03, -1.68146589e-03, -4.52734734e-04,\n",
       "        3.99869028e-03, -6.79904083e-03,  8.65457673e-03, -9.91144963e-03,\n",
       "        7.69312633e-03, -2.81117577e-03, -9.13575641e-04,  4.06268425e-03,\n",
       "       -6.69025816e-03,  6.09470904e-03, -4.63913009e-03,  3.15537932e-03,\n",
       "       -2.23204913e-03,  2.33621872e-03, -3.51004326e-03,  4.11552982e-03,\n",
       "       -5.11217490e-03,  2.06203456e-03,  1.53412402e-03, -4.27295687e-03,\n",
       "        7.64829712e-03, -1.18988911e-02,  8.10630713e-03, -5.54091623e-03,\n",
       "        3.51362070e-03,  1.98249053e-03, -3.22726066e-03,  3.71929677e-03,\n",
       "       -2.94781011e-03,  2.68138037e-03, -1.50230795e-03,  3.23516340e-03,\n",
       "       -4.05087601e-03,  7.09252898e-03, -6.75932737e-03,  5.88357868e-03,\n",
       "       -1.60263141e-03, -5.97970793e-04,  7.15511525e-03, -8.34282208e-03,\n",
       "        9.88803338e-03, -6.28556218e-03,  6.28964044e-03, -1.80351068e-04,\n",
       "       -1.51132978e-03, -2.02034134e-03, -2.54687550e-03,  9.39962454e-04,\n",
       "        2.52083596e-03,  4.24391543e-03, -3.62316263e-03,  5.72838355e-03,\n",
       "       -1.05843870e-02,  6.96511380e-03, -6.43602852e-03,  3.24134948e-03,\n",
       "        5.76823857e-03, -4.89312923e-03,  7.64397299e-03, -8.34112149e-03,\n",
       "        3.12037556e-03, -4.26825741e-03,  3.70478514e-03,  1.74518023e-03,\n",
       "        2.95925303e-03, -1.98376807e-03,  4.14878270e-03, -4.10630048e-04,\n",
       "       -4.32802970e-03,  4.10576118e-03, -8.59196857e-03,  1.25261685e-02,\n",
       "       -5.64846164e-03,  5.20983478e-03, -1.87526131e-03, -3.46868183e-03,\n",
       "        4.24483139e-03, -7.74964225e-03,  4.23453003e-03,  3.33656615e-04,\n",
       "        5.96131198e-03, -1.98404770e-03,  1.76267349e-03, -7.71958474e-03,\n",
       "        4.63930052e-03, -3.17895971e-03,  1.40833459e-03,  5.24626067e-03,\n",
       "       -5.02410857e-03,  1.05314879e-02, -1.06463823e-02,  5.89875737e-03,\n",
       "       -4.52456903e-03, -1.33890906e-04,  4.31861589e-03,  3.56894452e-04,\n",
       "        3.06105078e-03, -3.25787836e-03, -1.19473108e-04, -3.72995599e-03,\n",
       "        2.86422134e-03, -7.32175540e-03,  9.00364202e-03, -4.68095765e-03,\n",
       "        5.58445556e-03, -1.20551279e-03, -7.95999542e-03,  6.61836099e-03,\n",
       "       -7.63287302e-03,  9.19653755e-03, -4.01597144e-03,  5.09005459e-03,\n",
       "        1.69731432e-03, -1.10254902e-03, -3.45473760e-03, -3.33454693e-04,\n",
       "        2.32527265e-03,  2.68013240e-03,  4.40308964e-03, -6.21177815e-03,\n",
       "        8.23446363e-03, -1.24189993e-02,  4.04209923e-03, -4.43706848e-03,\n",
       "       -3.98425647e-04,  6.76130736e-03, -5.73485997e-03,  8.39138869e-03,\n",
       "       -4.44604550e-03,  9.88756656e-04, -4.94069327e-03,  1.21877622e-03,\n",
       "       -2.78417394e-03,  4.97125322e-03, -1.30539620e-03,  2.50535645e-03,\n",
       "        1.28685462e-03, -5.15624601e-03,  5.66834398e-03, -1.04904696e-02,\n",
       "        1.23421736e-02, -4.03029099e-03,  2.61512562e-03,  5.92272030e-04,\n",
       "       -6.27492275e-03,  3.53780296e-03, -3.87393986e-03,  4.40973043e-03,\n",
       "        1.62125716e-03,  4.87944344e-03, -5.60044264e-03,  1.73602393e-03,\n",
       "       -1.16392095e-02,  2.07965681e-03, -1.41491834e-03, -1.80948561e-03,\n",
       "        5.70693566e-03, -8.18618853e-03,  1.01234829e-02, -6.12822734e-03,\n",
       "        8.73875525e-03,  4.24707017e-04, -2.94433348e-03, -1.35956670e-03,\n",
       "       -4.30742279e-03,  4.09155327e-05, -5.05890639e-04,  2.47796695e-03,\n",
       "       -1.83654833e-03,  8.32115393e-03, -8.89619533e-03,  6.48985244e-03,\n",
       "       -7.57900812e-03,  9.55154130e-04,  5.24914404e-03, -5.23977214e-03,\n",
       "        9.84632690e-03, -4.28422401e-03,  7.34134996e-03, -3.48939095e-03,\n",
       "        1.88741682e-03, -1.27279432e-03,  1.00439391e-03,  1.41949079e-03,\n",
       "        3.53138475e-03, -2.14226404e-03, -4.62474441e-03,  4.14261967e-03,\n",
       "       -9.48813371e-03,  1.00950766e-02, -6.73292251e-03,  7.46361120e-03,\n",
       "        7.13002955e-05, -5.96391642e-03,  3.24993208e-03, -8.38362984e-03,\n",
       "        3.82433925e-03, -2.28681229e-03,  5.26368106e-03,  1.07387465e-03,\n",
       "        6.09903689e-03, -4.52964334e-03,  3.54267797e-03, -2.02629576e-03,\n",
       "        8.84928391e-04,  3.60630313e-03, -5.07187936e-03,  1.12342434e-02,\n",
       "       -9.80983302e-03,  7.06120208e-03, -5.00276778e-03, -7.12934241e-04,\n",
       "        4.69750492e-03, -2.52168649e-03,  3.80949676e-03, -1.36783707e-03,\n",
       "        7.92841660e-04, -5.47908247e-03,  1.47725362e-03, -6.38578460e-03,\n",
       "        9.12255142e-03, -4.40018345e-03,  5.75907342e-03,  2.62562558e-03,\n",
       "       -5.28240157e-03,  5.09798108e-03, -1.07151046e-02,  8.85973312e-03,\n",
       "       -3.68139590e-03,  4.82168002e-03,  5.92776400e-04, -4.09226457e-04,\n",
       "        2.04593409e-03, -7.73246516e-04, -3.85790219e-04,  1.81262160e-03,\n",
       "        5.14330342e-03, -5.84401190e-03,  9.23762005e-03, -9.60405730e-03,\n",
       "        5.87347290e-03, -3.39956884e-03, -1.81004894e-03,  7.14795059e-03,\n",
       "       -3.42142745e-03,  8.97787884e-03, -7.72883743e-03,  1.06648367e-03,\n",
       "       -4.95099928e-03, -9.58783436e-04, -2.18948559e-03,  5.54557564e-03,\n",
       "        2.11621425e-03,  3.80288018e-03,  3.90157773e-04, -5.62583888e-03,\n",
       "        7.42626702e-03, -9.82305780e-03,  1.04038324e-02, -5.42738754e-03,\n",
       "        3.63969617e-03,  3.51345679e-03, -6.48025889e-03,  3.51342675e-03,\n",
       "       -3.86412372e-03,  4.08475101e-03, -1.65315368e-03,  4.41158516e-03,\n",
       "       -3.34609859e-03,  3.83941643e-03, -6.77611772e-03,  2.63867341e-03,\n",
       "       -2.76825717e-03, -1.16168195e-03,  7.81822577e-03, -6.78222533e-03,\n",
       "        1.17807975e-02, -8.53019021e-03,  2.79579568e-03, -2.86288024e-03,\n",
       "       -1.51241606e-03,  4.19124076e-03, -1.28223968e-03,  4.54948330e-03,\n",
       "        3.10189044e-03,  2.58668861e-03, -5.85420709e-03,  5.45953773e-03,\n",
       "       -7.35162850e-03,  8.86905007e-03, -4.02132375e-03,  1.89806640e-04,\n",
       "        2.75120232e-03, -6.37233723e-03,  6.44804630e-03, -1.05070248e-02,\n",
       "        7.84400944e-03, -8.51058459e-04,  2.71845050e-03,  3.99524783e-04,\n",
       "       -1.33056683e-03, -6.79782475e-04,  4.00010217e-03,  6.87967055e-04,\n",
       "       -5.28418832e-03,  5.34125092e-03, -6.22323109e-03,  1.00376010e-02,\n",
       "       -6.21809997e-03,  8.66330881e-03,  3.92105896e-03,  4.83106403e-03,\n",
       "        1.93546917e-02,  4.29937802e-03,  1.44485515e-02,  3.07458430e-03,\n",
       "        8.53958912e-03,  4.21098247e-03,  7.84321781e-03,  1.92659791e-03,\n",
       "        1.14505114e-02,  3.19386763e-03,  3.34127108e-04, -8.84662499e-04,\n",
       "       -1.37012741e-02,  4.41774912e-03, -1.55699961e-02, -2.09264108e-03,\n",
       "       -1.24765933e-02, -6.78182952e-03, -5.27567277e-03, -1.47039415e-02,\n",
       "       -4.95077297e-03, -1.04180127e-02, -1.41694455e-03, -4.14982997e-03,\n",
       "        6.38892641e-04, -6.35634502e-03,  6.54050987e-03, -6.58322359e-03,\n",
       "        5.50653087e-03,  6.43182034e-03,  2.63151922e-03,  1.84831023e-02,\n",
       "        1.64547190e-03,  1.80144794e-02,  1.18332345e-03,  7.28361262e-03,\n",
       "        5.27396146e-03,  5.74938115e-03,  9.30839591e-03,  4.74429317e-03,\n",
       "        4.12736554e-03, -8.45303759e-04,  1.37366634e-03], dtype=float32)"
      ]
     },
     "execution_count": 138,
     "metadata": {},
     "output_type": "execute_result"
    }
   ],
   "source": [
    "manual_CQT[0]"
   ]
  },
  {
   "cell_type": "code",
   "execution_count": 131,
   "metadata": {},
   "outputs": [
    {
     "data": {
      "text/plain": [
       "tensor([-4.1931e-03,  9.1536e-03, -7.7766e-03,  8.9175e-03, -6.9555e-03,\n",
       "         6.5840e-04,  1.2399e-03, -6.5893e-03,  6.0465e-03, -8.8078e-03,\n",
       "         5.3398e-03, -3.7040e-03,  4.3688e-03, -1.9589e-03,  4.0401e-03,\n",
       "        -1.5386e-03,  3.7184e-03,  7.6608e-04, -3.4516e-03,  5.7652e-03,\n",
       "        -1.0361e-02,  9.3910e-03, -1.0076e-02,  3.8922e-03, -2.4738e-03,\n",
       "        -2.1158e-03,  4.7914e-03, -4.2017e-03,  5.8956e-03, -2.7475e-03,\n",
       "         5.5363e-03, -2.9497e-03,  5.1006e-03, -6.6486e-03,  5.3202e-03,\n",
       "        -4.0664e-03, -1.2844e-03,  2.1173e-03, -9.1812e-03,  9.2642e-03,\n",
       "        -9.2059e-03,  8.0845e-03, -4.4774e-03,  2.6957e-03,  3.2721e-03,\n",
       "        -2.9573e-04,  2.3765e-03, -2.1589e-03,  2.1727e-03, -4.4343e-03,\n",
       "         5.1043e-03, -9.0521e-03,  6.0918e-03, -8.3132e-03,  4.0830e-03,\n",
       "         2.4234e-04, -4.2012e-03,  8.9456e-03, -6.8123e-03,  9.2654e-03,\n",
       "        -5.6689e-03,  4.6532e-03, -1.5915e-03,  8.8494e-04, -1.8651e-03,\n",
       "        -6.3102e-04, -1.9591e-03, -2.9763e-03,  4.3480e-03, -7.4630e-03,\n",
       "         8.9018e-03, -9.2984e-03,  9.0904e-03, -1.5656e-03,  5.5474e-04,\n",
       "         4.7590e-03, -5.6648e-03,  6.4897e-03, -6.2686e-03,  3.6760e-03,\n",
       "        -5.1913e-03,  2.0250e-03, -4.9909e-03,  3.6672e-03, -4.2551e-03,\n",
       "         1.1395e-03,  3.5130e-03, -3.1809e-03,  9.9811e-03, -1.1075e-02,\n",
       "         9.5701e-03, -4.9790e-03,  3.3132e-03,  2.3569e-04, -4.1928e-03,\n",
       "         1.9635e-03, -5.1083e-03,  2.7892e-03, -3.8890e-03,  3.8048e-03,\n",
       "        -4.6982e-03,  8.2775e-03, -5.5292e-03,  6.0209e-03, -6.2335e-04,\n",
       "        -4.4268e-04,  6.6504e-03, -9.7683e-03,  8.3563e-03, -8.9784e-03,\n",
       "         4.8910e-03, -2.4178e-03, -4.3574e-04, -3.1739e-03, -2.1492e-03,\n",
       "         3.0967e-03,  7.3721e-04,  6.5568e-03, -3.5868e-03,  6.9031e-03,\n",
       "        -9.3603e-03,  7.8585e-03, -7.6543e-03,  1.3500e-03,  4.4844e-03,\n",
       "        -6.9305e-03,  5.5826e-03, -7.8386e-03,  3.8035e-03, -7.2318e-03,\n",
       "         6.7152e-03,  1.9382e-03,  2.3770e-03, -1.6094e-03,  4.8441e-03,\n",
       "         1.3363e-03, -6.3699e-03,  4.7165e-03, -1.0500e-02,  1.0748e-02,\n",
       "        -7.2017e-03,  3.3205e-03, -4.2341e-03, -1.7927e-03,  6.3915e-03,\n",
       "        -8.0370e-03,  5.7469e-03,  1.6348e-04,  7.6943e-03, -3.5387e-03,\n",
       "         3.1077e-03, -7.3622e-03,  3.8992e-03, -2.4098e-03, -2.4385e-03,\n",
       "         2.5031e-03, -6.3547e-03,  9.8117e-03, -1.1482e-02,  8.3162e-03,\n",
       "        -3.0782e-03,  3.9636e-04,  3.9987e-03,  1.9735e-03,  3.3036e-03,\n",
       "        -5.0433e-03,  2.8390e-03, -4.5393e-03,  2.2889e-03, -9.1543e-03,\n",
       "         7.3966e-03, -5.9978e-03,  5.3891e-03,  2.9181e-04, -7.8259e-03,\n",
       "         8.2210e-03, -5.4133e-03,  9.9350e-03, -6.0877e-03,  6.4439e-03,\n",
       "         7.8724e-04, -1.7388e-03, -4.4188e-03, -4.2936e-03,  2.3868e-03,\n",
       "         1.1897e-03,  7.5539e-04, -5.9999e-03,  1.1535e-02, -1.3010e-02,\n",
       "         7.8505e-03, -2.0054e-03,  4.6686e-05,  8.9526e-03, -7.5556e-03,\n",
       "         6.6262e-03, -3.1495e-03, -2.6711e-04, -8.2816e-03,  5.3335e-03,\n",
       "        -6.3432e-03,  2.1137e-03,  2.6281e-03, -2.2905e-03,  3.0779e-03,\n",
       "         3.2639e-06,  4.4065e-03, -1.0260e-02,  1.6194e-02, -7.7560e-03,\n",
       "         2.4394e-03,  1.2583e-03, -8.6456e-03,  4.0519e-03, -5.0817e-03,\n",
       "         6.3220e-04,  6.4682e-05,  6.6812e-03, -7.9821e-03,  8.5403e-03,\n",
       "        -8.2631e-03,  2.3131e-03,  5.5352e-03, -2.6615e-03,  2.9954e-03,\n",
       "        -5.3835e-03,  7.0256e-03, -1.1933e-02,  1.0554e-02, -3.5072e-03,\n",
       "        -4.0205e-03,  9.8237e-04, -4.5253e-03,  3.9610e-03,  7.3069e-04,\n",
       "         1.7918e-03, -8.4342e-04,  1.0611e-02, -1.0663e-02,  8.6237e-03,\n",
       "        -7.5399e-03, -2.6753e-03,  6.3978e-03, -8.5943e-03,  3.1999e-03,\n",
       "        -2.5833e-03,  6.6283e-03, -9.0529e-03,  8.8958e-03, -2.4976e-03,\n",
       "        -1.0051e-03,  6.9659e-03,  1.4162e-03, -2.0474e-03, -3.1868e-03,\n",
       "         4.3507e-03, -1.0996e-02,  1.0011e-02, -1.0184e-02,  6.2675e-03,\n",
       "         6.0149e-04, -7.6093e-03,  6.5789e-03, -4.6928e-03,  3.3908e-03,\n",
       "        -1.1130e-03,  6.7711e-03, -3.9124e-03,  8.3533e-03, -6.4255e-03,\n",
       "        -1.3768e-03,  1.3647e-03, -2.6001e-03, -1.9039e-03, -3.0593e-03,\n",
       "         1.0474e-02, -1.3457e-02,  1.2602e-02, -5.9100e-03, -3.0691e-04,\n",
       "         8.2945e-03, -3.8976e-03,  3.5494e-03,  1.8693e-04,  1.3298e-03,\n",
       "        -8.0850e-03,  3.0352e-03, -9.5063e-03,  8.4214e-03, -5.3837e-03,\n",
       "         1.0334e-03,  6.2336e-03, -4.8907e-03,  4.2303e-03, -7.4581e-03,\n",
       "         1.1343e-02, -6.0131e-03,  7.6044e-03, -2.2809e-03, -4.0197e-03,\n",
       "         4.7188e-03, -5.5393e-03, -4.3258e-03,  3.7661e-03,  3.1724e-03,\n",
       "        -9.8188e-03,  1.3203e-02, -1.0372e-02,  6.5535e-03,  1.2742e-03,\n",
       "        -3.1069e-03,  5.7949e-03, -1.0906e-03,  6.6513e-03, -1.0471e-02,\n",
       "         4.3428e-03, -7.2887e-03,  9.1250e-04, -4.1176e-03,  1.2547e-03,\n",
       "         4.6034e-03,  7.8926e-04, -7.1659e-05, -2.4839e-03,  9.1949e-03,\n",
       "        -1.0481e-02,  1.3063e-02, -7.9499e-03,  1.0196e-03,  6.2817e-03,\n",
       "        -9.4246e-03, -5.1240e-04, -4.4971e-04,  1.2455e-03, -5.9617e-03,\n",
       "         9.2198e-03, -5.6573e-03,  5.2865e-03, -1.7565e-03,  1.6746e-03,\n",
       "        -1.2350e-03,  6.5971e-04,  5.4642e-03, -8.7245e-03,  1.2197e-02,\n",
       "        -1.2248e-02,  3.4104e-03, -5.2820e-03, -2.1679e-03,  5.2599e-03,\n",
       "        -3.4672e-03,  2.8781e-03,  4.8569e-03,  4.1607e-03, -9.4313e-03,\n",
       "         1.0874e-02, -8.7196e-03,  6.4506e-03,  1.0085e-04, -5.5558e-03,\n",
       "         5.4408e-04, -2.5209e-03,  3.0844e-03, -1.2195e-02,  1.1243e-02,\n",
       "        -4.0472e-03,  4.0825e-03,  2.1540e-03, -1.3288e-03, -1.1559e-04,\n",
       "         7.3084e-03,  4.1284e-03, -9.8746e-03,  5.7023e-03, -4.5182e-03,\n",
       "         3.9143e-03, -1.0570e-02,  8.1954e-03, -6.5025e-03, -2.5191e-03,\n",
       "         1.4268e-02, -7.5342e-03,  8.3140e-03, -3.1793e-03,  2.2420e-03,\n",
       "        -1.3396e-03,  2.7814e-03, -6.5909e-03,  5.6541e-03,  2.0265e-03,\n",
       "        -5.1358e-03,  3.1114e-03, -1.1516e-02,  8.3963e-03, -3.8923e-03,\n",
       "         3.0479e-03, -4.9792e-03,  8.2976e-03,  1.0591e-03, -6.0102e-03,\n",
       "         6.5621e-03, -9.0590e-03,  5.3153e-03, -6.2258e-04, -4.1250e-04,\n",
       "        -6.8427e-03,  8.7380e-03, -1.1959e-02,  2.8599e-03,  4.3528e-03,\n",
       "        -6.2045e-03,  1.2524e-02, -4.7508e-03,  9.1977e-03, -5.7687e-03,\n",
       "         1.9437e-03, -4.5644e-03,  1.1436e-03,  2.3075e-03, -4.4588e-03,\n",
       "         3.7977e-03, -5.6553e-03,  3.2312e-03])"
      ]
     },
     "execution_count": 131,
     "metadata": {},
     "output_type": "execute_result"
    }
   ],
   "source": [
    "CQT_real[0][1]"
   ]
  },
  {
   "cell_type": "code",
   "execution_count": null,
   "metadata": {},
   "outputs": [],
   "source": []
  }
 ],
 "metadata": {
  "kernelspec": {
   "display_name": "Python 3",
   "language": "python",
   "name": "python3"
  },
  "language_info": {
   "codemirror_mode": {
    "name": "ipython",
    "version": 3
   },
   "file_extension": ".py",
   "mimetype": "text/x-python",
   "name": "python",
   "nbconvert_exporter": "python",
   "pygments_lexer": "ipython3",
   "version": "3.6.8"
  }
 },
 "nbformat": 4,
 "nbformat_minor": 2
}
