{
 "cells": [
  {
   "cell_type": "code",
   "execution_count": 1,
   "metadata": {},
   "outputs": [],
   "source": [
    "import numpy as np\n",
    "from scipy import fft\n",
    "from scipy.sparse import csr_matrix\n",
    "from scipy.io.wavfile import read\n",
    "from librosa.core import note_to_hz\n",
    "import matplotlib.pyplot as plt\n",
    "from scipy.signal import get_window\n",
    "import scipy\n",
    "import filters\n",
    "\n",
    "import torch\n",
    "import torch.nn as nn\n",
    "from torch.nn.functional import conv1d\n",
    "from librosa import stft"
   ]
  },
  {
   "cell_type": "code",
   "execution_count": 2,
   "metadata": {},
   "outputs": [],
   "source": [
    "# parameters\n",
    "# nargin = 6\n",
    "bins = 24 # bins per octave\n",
    "fs = 22050 # sampling rate\n",
    "\n",
    "# fmax = 61.73541266 # same as 1 octave\n",
    "fmax = 880*4\n",
    "fmin = note_to_hz('C1')\n",
    "thresh= 0.0054\n",
    "\n",
    "stride = 512"
   ]
  },
  {
   "cell_type": "code",
   "execution_count": 3,
   "metadata": {},
   "outputs": [],
   "source": [
    "s = np.linspace(0,10,fs*10)\n",
    "x = np.sin(2*np.pi*200*s, dtype=np.float32) + np.sin(2*np.pi*500*s, dtype=np.float32) +np.sin(2*np.pi*1000*s, dtype=np.float32) "
   ]
  },
  {
   "cell_type": "code",
   "execution_count": 4,
   "metadata": {},
   "outputs": [],
   "source": [
    "def nextpow2(A):\n",
    "    return int(np.ceil(np.log2(A)))"
   ]
  },
  {
   "cell_type": "code",
   "execution_count": 5,
   "metadata": {},
   "outputs": [],
   "source": [
    "def create_cqt_kernals(fmin, fmax, bins, fs, window):\n",
    "    Q = 1/(2**(1/bins)-1)\n",
    "    K = np.ceil(bins * np.log2(fmax / fmin)) # Calculate the number of bins\n",
    "    fftLen = 2**nextpow2(np.ceil(Q * fs / fmin))\n",
    "    minWin = 2**nextpow2(np.ceil(Q * fs / fmax))\n",
    "    tempKernel = np.zeros((int(K), int(fftLen)), dtype=np.complex64)\n",
    "    specKernel = np.zeros((int(K), int(fftLen)), dtype=np.complex64)\n",
    "    freqs = fmin * 2.0 ** (np.r_[0:K] / np.float(bins))\n",
    "    for k in range(0, int(K)):\n",
    "        freq = freqs[k]\n",
    "        l = np.ceil(Q * fs / freq)\n",
    "        if l%2==1: # pad more zeros on RHS\n",
    "            start = int(np.ceil(fftLen / 2.0 - l / 2.0))-1\n",
    "        else:\n",
    "            start = int(np.ceil(fftLen / 2.0 - l / 2.0))\n",
    "        tempKernel[k, start:start + int(l)] = get_window(window,int(l), fftbins=True)*np.exp(np.r_[-l//2:l//2]*1j*2*np.pi*freq/fs)/l\n",
    "        # specKernel[k, :]=fft(conj(tempKernel[k, :]))\n",
    "        specKernel[k, :] = fft(tempKernel[k])\n",
    "        \n",
    "    return specKernel[:,:fftLen//2+1], fftLen"
   ]
  },
  {
   "cell_type": "code",
   "execution_count": 6,
   "metadata": {},
   "outputs": [],
   "source": [
    "cqt_filter, kernal_width = create_cqt_kernals(fmin, fmax, bins, fs, 'hann')\n",
    "cqt_filter_real = torch.tensor(cqt_filter.real)\n",
    "cqt_filter_imag = torch.tensor(cqt_filter.imag)"
   ]
  },
  {
   "cell_type": "code",
   "execution_count": 21,
   "metadata": {},
   "outputs": [],
   "source": [
    "wsin, wcos = filters.create_fourier_kernals(kernal_width, windowing=\"no\", freq_scale='no')"
   ]
  },
  {
   "cell_type": "code",
   "execution_count": 26,
   "metadata": {},
   "outputs": [],
   "source": [
    "fourier_real = conv1d(x_gpu[None,None,:], wcos, stride=stride)\n",
    "fourier_imag = conv1d(x_gpu[None,None,:], wsin, stride=stride) # Doing STFT by using conv1d"
   ]
  },
  {
   "cell_type": "code",
   "execution_count": 32,
   "metadata": {},
   "outputs": [],
   "source": [
    "spec = np.sqrt(fourier_real.pow(2)+fourier_imag.pow(2))"
   ]
  },
  {
   "cell_type": "code",
   "execution_count": 75,
   "metadata": {},
   "outputs": [
    {
     "data": {
      "text/plain": [
       "torch.Size([1, 16385, 367])"
      ]
     },
     "execution_count": 75,
     "metadata": {},
     "output_type": "execute_result"
    }
   ],
   "source": [
    "fourier_real.shape"
   ]
  },
  {
   "cell_type": "code",
   "execution_count": 88,
   "metadata": {},
   "outputs": [],
   "source": [
    "test = torch.cat((fourier_real, fourier_real))"
   ]
  },
  {
   "cell_type": "code",
   "execution_count": 76,
   "metadata": {},
   "outputs": [
    {
     "data": {
      "text/plain": [
       "torch.Size([162, 16385])"
      ]
     },
     "execution_count": 76,
     "metadata": {},
     "output_type": "execute_result"
    }
   ],
   "source": [
    "cqt_filter_real.shape"
   ]
  },
  {
   "cell_type": "code",
   "execution_count": 90,
   "metadata": {},
   "outputs": [
    {
     "data": {
      "text/plain": [
       "torch.Size([2, 162, 367])"
      ]
     },
     "execution_count": 90,
     "metadata": {},
     "output_type": "execute_result"
    }
   ],
   "source": [
    "torch.matmul(cqt_filter_real, test).shape"
   ]
  },
  {
   "cell_type": "code",
   "execution_count": 91,
   "metadata": {},
   "outputs": [],
   "source": [
    "CQT_real = torch.matmul(cqt_filter_real, fourier_real) - torch.matmul(cqt_filter_imag, fourier_imag)\n",
    "CQT_imag = torch.matmul(cqt_filter_real, fourier_imag) + torch.matmul(cqt_filter_imag, fourier_real)"
   ]
  },
  {
   "cell_type": "code",
   "execution_count": 104,
   "metadata": {},
   "outputs": [],
   "source": [
    "CQT_GPU = torch.sqrt(CQT_real.pow(2)+CQT_imag.pow(2))"
   ]
  },
  {
   "cell_type": "code",
   "execution_count": 105,
   "metadata": {},
   "outputs": [
    {
     "data": {
      "text/plain": [
       "<matplotlib.image.AxesImage at 0x7f2bd11c05c0>"
      ]
     },
     "execution_count": 105,
     "metadata": {},
     "output_type": "execute_result"
    },
    {
     "data": {
      "image/png": "[encoded data removed]",
      "text/plain": [
       "<Figure size 432x288 with 1 Axes>"
      ]
     },
     "metadata": {
      "needs_background": "light"
     },
     "output_type": "display_data"
    }
   ],
   "source": [
    "plt.imshow(CQT_GPU[0],aspect='auto', origin='lower')"
   ]
  },
  {
   "cell_type": "markdown",
   "metadata": {},
   "source": [
    "# Calculating the spectrogram"
   ]
  },
  {
   "cell_type": "code",
   "execution_count": 98,
   "metadata": {},
   "outputs": [],
   "source": [
    "x_fft = stft(x, kernal_width, hop_length=512, window='ones', center=False)"
   ]
  },
  {
   "cell_type": "code",
   "execution_count": 99,
   "metadata": {},
   "outputs": [],
   "source": [
    "CQT = np.dot(cqt_filter, x_fft)"
   ]
  },
  {
   "cell_type": "code",
   "execution_count": 100,
   "metadata": {},
   "outputs": [
    {
     "data": {
      "text/plain": [
       "<matplotlib.image.AxesImage at 0x7f2bd0dae4e0>"
      ]
     },
     "execution_count": 100,
     "metadata": {},
     "output_type": "execute_result"
    },
    {
     "data": {
      "image/png": "[encoded data removed]",
      "text/plain": [
       "<Figure size 432x288 with 1 Axes>"
      ]
     },
     "metadata": {
      "needs_background": "light"
     },
     "output_type": "display_data"
    }
   ],
   "source": [
    "plt.imshow(abs(CQT),aspect='auto', origin='lower')"
   ]
  },
  {
   "cell_type": "code",
   "execution_count": 107,
   "metadata": {},
   "outputs": [
    {
     "data": {
      "text/plain": [
       "array([[8.9282187e-04, 6.6087570e-04, 4.8100465e-04, ..., 2.4923212e-03,\n",
       "        2.0552385e-03, 1.6615066e-03],\n",
       "       [6.6086015e-04, 3.7744609e-04, 1.7000080e-04, ..., 1.7984860e-02,\n",
       "        1.7876044e-02, 1.7544553e-02],\n",
       "       [6.3904776e-04, 7.9418527e-04, 9.1353065e-04, ..., 4.8832670e-02,\n",
       "        4.8810653e-02, 4.8828620e-02],\n",
       "       ...,\n",
       "       [3.4701627e-01, 2.7944854e-01, 3.6189985e-01, ..., 2.0615542e+00,\n",
       "        1.9949268e+00, 1.6311748e+00],\n",
       "       [8.9624420e-02, 7.4002691e-02, 1.3924429e-01, ..., 2.5823603e+00,\n",
       "        2.5544088e+00, 2.4117029e+00],\n",
       "       [1.5928690e-01, 1.6232944e-01, 1.0717366e-01, ..., 6.7742133e-01,\n",
       "        7.8580379e-01, 8.4052509e-01]], dtype=float32)"
      ]
     },
     "execution_count": 107,
     "metadata": {},
     "output_type": "execute_result"
    }
   ],
   "source": [
    "abs(CQT)"
   ]
  },
  {
   "cell_type": "code",
   "execution_count": 106,
   "metadata": {},
   "outputs": [
    {
     "data": {
      "text/plain": [
       "tensor([[[6.9934e-04, 6.2586e-04, 4.5983e-04,  ..., 2.4580e-03,\n",
       "          2.1320e-03, 1.6594e-03],\n",
       "         [5.1389e-04, 3.7514e-04, 1.2050e-04,  ..., 1.7935e-02,\n",
       "          1.7859e-02, 1.7502e-02],\n",
       "         [6.2056e-04, 8.0295e-04, 9.3981e-04,  ..., 4.8779e-02,\n",
       "          4.8770e-02, 4.8793e-02],\n",
       "         ...,\n",
       "         [3.4704e-01, 2.7951e-01, 3.6180e-01,  ..., 2.0615e+00,\n",
       "          1.9948e+00, 1.6312e+00],\n",
       "         [8.5214e-02, 8.2105e-02, 1.1122e-01,  ..., 2.5577e+00,\n",
       "          2.6046e+00, 2.4460e+00],\n",
       "         [1.6572e-01, 1.4758e-01, 1.2546e-01,  ..., 5.9172e-01,\n",
       "          7.2846e-01, 9.6423e-01]]])"
      ]
     },
     "execution_count": 106,
     "metadata": {},
     "output_type": "execute_result"
    }
   ],
   "source": [
    "CQT_GPU"
   ]
  },
  {
   "cell_type": "code",
   "execution_count": null,
   "metadata": {},
   "outputs": [],
   "source": []
  }
 ],
 "metadata": {
  "kernelspec": {
   "display_name": "Python 3",
   "language": "python",
   "name": "python3"
  },
  "language_info": {
   "codemirror_mode": {
    "name": "ipython",
    "version": 3
   },
   "file_extension": ".py",
   "mimetype": "text/x-python",
   "name": "python",
   "nbconvert_exporter": "python",
   "pygments_lexer": "ipython3",
   "version": "3.6.8"
  }
 },
 "nbformat": 4,
 "nbformat_minor": 2
}
