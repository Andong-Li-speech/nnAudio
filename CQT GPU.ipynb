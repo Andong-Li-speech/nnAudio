{
 "cells": [
  {
   "cell_type": "code",
   "execution_count": 29,
   "metadata": {},
   "outputs": [],
   "source": [
    "import numpy as np\n",
    "from scipy import fft\n",
    "from scipy.sparse import csr_matrix\n",
    "from scipy.io.wavfile import read\n",
    "from librosa.core import note_to_hz\n",
    "import matplotlib.pyplot as plt\n",
    "from scipy.signal import get_window\n",
    "import scipy\n",
    "import filters\n",
    "\n",
    "import torch\n",
    "import torch.nn as nn\n",
    "from torch.nn.functional import conv1d\n",
    "from librosa import stft\n",
    "\n",
    "# parameters\n",
    "# nargin = 6\n",
    "bins = 24 # bins per octave\n",
    "fs = 22050 # sampling rate\n",
    "\n",
    "# fmax = 61.73541266 # same as 1 octave\n",
    "fmax = 880\n",
    "fmin = note_to_hz('A3')\n",
    "thresh= 0.0054\n",
    "\n",
    "stride = 512\n",
    "\n",
    "s = np.linspace(0,10,fs*10)\n",
    "x = np.sin(2*np.pi*450*s, dtype=np.float32) + np.sin(2*np.pi*500*s, dtype=np.float32) +np.sin(2*np.pi*600*s, dtype=np.float32) \n",
    "\n",
    "def nextpow2(A):\n",
    "    return int(np.ceil(np.log2(A)))\n",
    "\n",
    "def create_cqt_kernals(fmin, fmax, bins, fs, window):\n",
    "    Q = 1/(2**(1/bins)-1)\n",
    "    K = np.ceil(bins * np.log2(fmax / fmin)) # Calculate the number of bins\n",
    "    fftLen = 2**nextpow2(np.ceil(Q * fs / fmin))\n",
    "    minWin = 2**nextpow2(np.ceil(Q * fs / fmax))\n",
    "    tempKernel = np.zeros((int(K), int(fftLen)), dtype=np.complex64)\n",
    "    specKernel = np.zeros((int(K), int(fftLen)), dtype=np.complex64)\n",
    "    freqs = fmin * 2.0 ** (np.r_[0:K] / np.float(bins))\n",
    "    for k in range(0, int(K)):\n",
    "        freq = freqs[k]\n",
    "        l = np.ceil(Q * fs / freq)\n",
    "        if l%2==1: # pad more zeros on RHS\n",
    "            start = int(np.ceil(fftLen / 2.0 - l / 2.0))-1\n",
    "        else:\n",
    "            start = int(np.ceil(fftLen / 2.0 - l / 2.0))\n",
    "        tempKernel[k, start:start + int(l)] = get_window(window,int(l), fftbins=True)*np.exp(np.r_[-l//2:l//2]*1j*2*np.pi*freq/fs)/l\n",
    "        # specKernel[k, :]=fft(conj(tempKernel[k, :]))\n",
    "        specKernel[k, :] = fft(tempKernel[k])\n",
    "        \n",
    "    return specKernel[:,:fftLen//2+1], fftLen\n",
    "\n",
    "cqt_filter, kernal_width = create_cqt_kernals(fmin, fmax, bins, fs, 'hann')\n",
    "cqt_filter_real = torch.tensor(cqt_filter.real)\n",
    "cqt_filter_imag = torch.tensor(cqt_filter.imag)\n",
    "\n",
    "wsin, wcos = filters.create_fourier_kernals(kernal_width, windowing=\"no\", freq_scale='no')"
   ]
  },
  {
   "cell_type": "code",
   "execution_count": 30,
   "metadata": {},
   "outputs": [],
   "source": [
    "x_gpu = torch.tensor(x)\n",
    "wsin = torch.tensor(wsin)\n",
    "wcos = torch.tensor(wcos)"
   ]
  },
  {
   "cell_type": "code",
   "execution_count": 31,
   "metadata": {},
   "outputs": [],
   "source": [
    "fourier_real = conv1d(x_gpu[None,None,:], wcos, stride=stride)\n",
    "fourier_imag = conv1d(x_gpu[None,None,:], wsin, stride=stride) # Doing STFT by using conv1d"
   ]
  },
  {
   "cell_type": "code",
   "execution_count": 78,
   "metadata": {},
   "outputs": [],
   "source": [
    "def complex_mul(cqt_filter, stft):\n",
    "    cqt_filter_real = cqt_filter[0]\n",
    "    cqt_filter_imag = cqt_filter[1]\n",
    "    fourier_real = stft[0]\n",
    "    fourier_imag = stft[1]\n",
    "    \n",
    "    CQT_real = torch.matmul(cqt_filter_real, fourier_real) - torch.matmul(cqt_filter_imag, fourier_imag)\n",
    "    CQT_imag = torch.matmul(cqt_filter_real, fourier_imag) + torch.matmul(cqt_filter_imag, fourier_real)   \n",
    "    \n",
    "    return CQT_real, CQT_imag"
   ]
  },
  {
   "cell_type": "markdown",
   "metadata": {},
   "source": [
    "# GPU implmentation"
   ]
  },
  {
   "cell_type": "code",
   "execution_count": 79,
   "metadata": {},
   "outputs": [],
   "source": [
    "CQT_real, CQT_imag = complex_mul((cqt_filter_real, cqt_filter_imag), (fourier_real, fourier_imag))"
   ]
  },
  {
   "cell_type": "code",
   "execution_count": 80,
   "metadata": {},
   "outputs": [],
   "source": [
    "CQT_GPU = torch.sqrt(CQT_real.pow(2)+CQT_imag.pow(2))"
   ]
  },
  {
   "cell_type": "code",
   "execution_count": 81,
   "metadata": {},
   "outputs": [
    {
     "data": {
      "text/plain": [
       "<matplotlib.image.AxesImage at 0x1360406a0>"
      ]
     },
     "execution_count": 81,
     "metadata": {},
     "output_type": "execute_result"
    },
    {
     "data": {
      "image/png": "[encoded data removed]",
      "text/plain": [
       "<Figure size 432x288 with 1 Axes>"
      ]
     },
     "metadata": {
      "needs_background": "light"
     },
     "output_type": "display_data"
    }
   ],
   "source": [
    "plt.imshow(CQT_GPU[0],aspect='auto', origin='lower')"
   ]
  },
  {
   "cell_type": "markdown",
   "metadata": {},
   "source": [
    "# CPU implementation"
   ]
  },
  {
   "cell_type": "code",
   "execution_count": 42,
   "metadata": {},
   "outputs": [],
   "source": [
    "x_fft = stft(x, kernal_width, hop_length=512, window='ones', center=False)"
   ]
  },
  {
   "cell_type": "code",
   "execution_count": 43,
   "metadata": {},
   "outputs": [],
   "source": [
    "CQT = np.dot(cqt_filter, x_fft)"
   ]
  },
  {
   "cell_type": "code",
   "execution_count": 44,
   "metadata": {},
   "outputs": [
    {
     "data": {
      "text/plain": [
       "<matplotlib.image.AxesImage at 0x12dd7ca58>"
      ]
     },
     "execution_count": 44,
     "metadata": {},
     "output_type": "execute_result"
    },
    {
     "data": {
      "image/png": "[encoded data removed]",
      "text/plain": [
       "<Figure size 432x288 with 1 Axes>"
      ]
     },
     "metadata": {
      "needs_background": "light"
     },
     "output_type": "display_data"
    }
   ],
   "source": [
    "plt.imshow(abs(CQT),aspect='auto', origin='lower')"
   ]
  },
  {
   "cell_type": "code",
   "execution_count": 45,
   "metadata": {},
   "outputs": [
    {
     "data": {
      "text/plain": [
       "torch.Size([1, 48, 423])"
      ]
     },
     "execution_count": 45,
     "metadata": {},
     "output_type": "execute_result"
    }
   ],
   "source": [
    "CQT_imag.shape"
   ]
  },
  {
   "cell_type": "code",
   "execution_count": 46,
   "metadata": {},
   "outputs": [
    {
     "data": {
      "text/plain": [
       "(48, 2049)"
      ]
     },
     "execution_count": 46,
     "metadata": {},
     "output_type": "execute_result"
    }
   ],
   "source": [
    "cqt_filter.real.shape"
   ]
  },
  {
   "cell_type": "code",
   "execution_count": 47,
   "metadata": {},
   "outputs": [
    {
     "name": "stdout",
     "output_type": "stream",
     "text": [
      "True\n",
      "True\n",
      "True\n",
      "True\n",
      "True\n",
      "True\n",
      "True\n",
      "True\n",
      "True\n",
      "True\n",
      "True\n",
      "True\n",
      "True\n",
      "True\n",
      "True\n",
      "True\n",
      "True\n",
      "True\n",
      "True\n",
      "True\n",
      "True\n",
      "True\n",
      "True\n",
      "True\n",
      "True\n",
      "True\n",
      "True\n",
      "True\n",
      "True\n",
      "True\n",
      "True\n",
      "True\n",
      "True\n",
      "True\n",
      "True\n",
      "True\n",
      "True\n",
      "True\n",
      "True\n",
      "True\n",
      "True\n",
      "True\n",
      "True\n",
      "True\n",
      "True\n",
      "True\n",
      "True\n",
      "True\n"
     ]
    }
   ],
   "source": [
    "for i in range(len(cqt_filter_real)):\n",
    "    print(np.array_equal(cqt_filter.imag[i], cqt_filter_imag[i]))"
   ]
  },
  {
   "cell_type": "code",
   "execution_count": 48,
   "metadata": {},
   "outputs": [
    {
     "data": {
      "text/plain": [
       "True"
      ]
     },
     "execution_count": 48,
     "metadata": {},
     "output_type": "execute_result"
    }
   ],
   "source": [
    "np.allclose(spec, abs(x_fft), atol=1)"
   ]
  },
  {
   "cell_type": "code",
   "execution_count": 49,
   "metadata": {},
   "outputs": [
    {
     "data": {
      "text/plain": [
       "tensor([[28.1269,  4.4071, 15.0340,  ..., 24.5817, 11.5305, 21.1401],\n",
       "        [28.1305,  4.4092, 15.0366,  ..., 24.5970, 11.5112, 21.1683],\n",
       "        [28.1402,  4.4162, 15.0444,  ..., 24.5990, 11.5307, 21.1659],\n",
       "        ...,\n",
       "        [ 0.3257,  0.8670,  1.0451,  ...,  0.0323,  1.2320,  0.5849],\n",
       "        [ 0.3193,  0.8726,  1.0309,  ...,  0.0549,  1.2289,  0.5981],\n",
       "        [ 0.3272,  0.8683,  1.0439,  ...,  0.0309,  1.2386,  0.5864]])"
      ]
     },
     "execution_count": 49,
     "metadata": {},
     "output_type": "execute_result"
    }
   ],
   "source": [
    "spec[0]"
   ]
  },
  {
   "cell_type": "code",
   "execution_count": 54,
   "metadata": {},
   "outputs": [
    {
     "data": {
      "text/plain": [
       "True"
      ]
     },
     "execution_count": 54,
     "metadata": {},
     "output_type": "execute_result"
    }
   ],
   "source": [
    "np.allclose(x_fft.real[0], fourier_real[0][0], atol=1e-4)"
   ]
  },
  {
   "cell_type": "code",
   "execution_count": 61,
   "metadata": {},
   "outputs": [
    {
     "data": {
      "text/plain": [
       "True"
      ]
     },
     "execution_count": 61,
     "metadata": {},
     "output_type": "execute_result"
    }
   ],
   "source": [
    "np.allclose(abs(CQT), CQT_GPU, atol=1)"
   ]
  },
  {
   "cell_type": "code",
   "execution_count": 62,
   "metadata": {},
   "outputs": [
    {
     "data": {
      "text/plain": [
       "False"
      ]
     },
     "execution_count": 62,
     "metadata": {},
     "output_type": "execute_result"
    }
   ],
   "source": [
    "np.allclose(CQT.real, CQT_real, atol=1)"
   ]
  },
  {
   "cell_type": "code",
   "execution_count": 66,
   "metadata": {},
   "outputs": [
    {
     "data": {
      "text/plain": [
       "<matplotlib.image.AxesImage at 0x1363b38d0>"
      ]
     },
     "execution_count": 66,
     "metadata": {},
     "output_type": "execute_result"
    },
    {
     "data": {
      "image/png": "[encoded data removed]",
      "text/plain": [
       "<Figure size 432x288 with 1 Axes>"
      ]
     },
     "metadata": {
      "needs_background": "light"
     },
     "output_type": "display_data"
    }
   ],
   "source": [
    "plt.imshow(CQT.real, aspect='auto')"
   ]
  },
  {
   "cell_type": "code",
   "execution_count": 75,
   "metadata": {},
   "outputs": [
    {
     "data": {
      "text/plain": [
       "array([-4.16480750e-03,  7.99067598e-03, -8.56854860e-03,  8.85130372e-03,\n",
       "       -6.54612016e-03,  1.34779653e-03,  2.64327740e-03, -5.61873289e-03,\n",
       "        7.10673677e-03, -7.10272789e-03,  4.60710470e-03, -2.46221246e-03,\n",
       "        2.26943265e-03, -1.95905939e-03,  2.76490627e-03, -3.35679832e-03,\n",
       "        3.65868723e-03, -8.78111110e-04, -2.62999930e-03,  5.84704755e-03,\n",
       "       -9.02217999e-03,  1.03138303e-02, -8.32572393e-03,  4.65675723e-03,\n",
       "       -1.06660835e-03, -2.55276216e-03,  4.76321299e-03, -4.58196225e-03,\n",
       "        3.73669318e-03, -2.31122156e-03,  2.66090385e-03, -2.77334149e-03,\n",
       "        4.19699820e-03, -6.28825091e-03,  6.51200814e-03, -3.70584405e-03,\n",
       "        9.39245627e-04,  3.08727799e-03, -7.76640326e-03,  9.66534484e-03,\n",
       "       -8.91343318e-03,  6.78953389e-03, -4.06155922e-03,  4.76554793e-04,\n",
       "        2.34264974e-03, -1.64733955e-03,  9.76906391e-04, -1.54972612e-03,\n",
       "        7.41025899e-04, -2.19432078e-03,  5.17178187e-03, -7.55777070e-03,\n",
       "        7.54925096e-03, -7.79540697e-03,  4.42765141e-03,  1.08332081e-07,\n",
       "       -4.59524617e-03,  7.79575063e-03, -8.12551845e-03,  7.13159237e-03,\n",
       "       -5.40192332e-03,  2.49696150e-03, -4.51687025e-04,  9.65782208e-04,\n",
       "       -1.08315970e-03,  1.58231007e-03, -1.68146566e-03, -4.52734355e-04,\n",
       "        3.99869308e-03, -6.79904176e-03,  8.65457859e-03, -9.91145521e-03,\n",
       "        7.69300852e-03, -2.81117600e-03, -9.13814292e-04,  4.06271452e-03,\n",
       "       -6.69027353e-03,  6.09470578e-03, -4.63912962e-03,  3.15537979e-03,\n",
       "       -2.23201863e-03,  2.33621895e-03, -3.51016317e-03,  4.11553262e-03,\n",
       "       -5.11215907e-03,  2.06202036e-03,  1.53412321e-03, -4.27295920e-03,\n",
       "        7.64820771e-03, -1.18988967e-02,  8.10618605e-03, -5.53996209e-03,\n",
       "        3.51362280e-03,  1.98229752e-03, -3.22726183e-03,  3.71882762e-03,\n",
       "       -2.94780894e-03,  2.68137828e-03, -1.50230771e-03,  3.23516503e-03,\n",
       "       -4.05086530e-03,  7.09246844e-03, -6.75933156e-03,  5.88381523e-03,\n",
       "       -1.60261430e-03, -5.97968930e-04,  7.15508172e-03, -8.34280625e-03,\n",
       "        9.88802873e-03, -6.28556451e-03,  6.28964044e-03, -1.80351082e-04,\n",
       "       -1.51132990e-03, -2.02034204e-03, -2.54687620e-03,  9.39962163e-04,\n",
       "        2.52083689e-03,  4.24438994e-03, -3.62316123e-03,  5.72838169e-03,\n",
       "       -1.05843842e-02,  6.96511334e-03, -6.43591024e-03,  3.24134994e-03,\n",
       "        5.76822413e-03, -4.89286287e-03,  7.64397718e-03, -8.34123883e-03,\n",
       "        3.12037417e-03, -4.26825555e-03,  3.70478583e-03,  1.74518069e-03,\n",
       "        2.95924535e-03, -1.98376784e-03,  4.14877944e-03, -4.10622510e-04,\n",
       "       -4.32802970e-03,  4.10577049e-03, -8.59210361e-03,  1.25261731e-02,\n",
       "       -5.64845745e-03,  5.20983152e-03, -1.87533931e-03, -3.46867298e-03,\n",
       "        4.24481649e-03, -7.74964411e-03,  4.23430279e-03,  3.33656499e-04,\n",
       "        5.96131291e-03, -1.98404817e-03,  1.76315382e-03, -7.71945948e-03,\n",
       "        4.63930424e-03, -3.17896018e-03,  1.40835915e-03,  5.24626113e-03,\n",
       "       -5.02411136e-03,  1.05309468e-02, -1.06463851e-02,  5.89875458e-03,\n",
       "       -4.52504680e-03, -1.33831811e-04,  4.31861635e-03,  3.56893783e-04,\n",
       "        3.06099281e-03, -3.25787929e-03, -1.19473218e-04, -3.72995646e-03,\n",
       "        2.86422065e-03, -7.32175494e-03,  9.00311396e-03, -4.68072109e-03,\n",
       "        5.58446022e-03, -1.20553491e-03, -7.95999914e-03,  6.61831303e-03,\n",
       "       -7.63287209e-03,  9.19641461e-03, -4.01590765e-03,  5.08999359e-03,\n",
       "        1.69731455e-03, -1.10251864e-03, -3.45497509e-03, -3.33454780e-04,\n",
       "        2.32527195e-03,  2.68012797e-03,  4.40309383e-03, -6.21177908e-03,\n",
       "        8.23446643e-03, -1.24180550e-02,  4.04209504e-03, -4.43706894e-03,\n",
       "       -3.98426026e-04,  6.76130643e-03, -5.73485531e-03,  8.39139242e-03,\n",
       "       -4.44604596e-03,  9.88756772e-04, -4.94069792e-03,  1.21877517e-03,\n",
       "       -2.78417417e-03,  4.97176172e-03, -1.30539178e-03,  2.50535854e-03,\n",
       "        1.28685497e-03, -5.15624462e-03,  5.66840312e-03, -1.04904696e-02,\n",
       "        1.23421717e-02, -4.03029192e-03,  2.61512492e-03,  5.92312368e-04,\n",
       "       -6.27492182e-03,  3.53780482e-03, -3.87394172e-03,  4.40925127e-03,\n",
       "        1.62125321e-03,  4.87944530e-03, -5.60044311e-03,  1.73603930e-03,\n",
       "       -1.16392029e-02,  2.07965705e-03, -1.41497841e-03, -1.80948526e-03,\n",
       "        5.70691982e-03, -8.18618387e-03,  1.01234801e-02, -6.12841872e-03,\n",
       "        8.73875245e-03,  4.24856524e-04, -2.94439262e-03, -1.35956553e-03,\n",
       "       -4.30692965e-03,  4.10269422e-05, -5.05890697e-04,  2.47796695e-03,\n",
       "       -1.83654844e-03,  8.32115021e-03, -8.89619906e-03,  6.48961496e-03,\n",
       "       -7.57901184e-03,  9.55154188e-04,  5.24914498e-03, -5.23976889e-03,\n",
       "        9.84632410e-03, -4.28421469e-03,  7.34135229e-03, -3.48938908e-03,\n",
       "        1.88741717e-03, -1.27279502e-03,  1.00440846e-03,  1.41949044e-03,\n",
       "        3.53138475e-03, -2.14226381e-03, -4.62471507e-03,  4.14261967e-03,\n",
       "       -9.48813464e-03,  1.00950794e-02, -6.73280144e-03,  7.46361166e-03,\n",
       "        7.14194757e-05, -5.96389454e-03,  3.24994628e-03, -8.38363357e-03,\n",
       "        3.82421049e-03, -2.28681159e-03,  5.26368339e-03,  1.07387104e-03,\n",
       "        6.09903689e-03, -4.52964194e-03,  3.54291708e-03, -2.02629482e-03,\n",
       "        8.84988753e-04,  3.60630360e-03, -5.07188356e-03,  1.12342490e-02,\n",
       "       -9.80983768e-03,  7.06120115e-03, -5.00276824e-03, -7.12919980e-04,\n",
       "        4.69750818e-03, -2.52168509e-03,  3.80948908e-03, -1.36783719e-03,\n",
       "        7.92841776e-04, -5.47884079e-03,  1.47725292e-03, -6.38559880e-03,\n",
       "        9.12255421e-03, -4.40066587e-03,  5.75883407e-03,  2.62556807e-03,\n",
       "       -5.28287701e-03,  5.09808958e-03, -1.07151046e-02,  8.85962043e-03,\n",
       "       -3.68139544e-03,  4.82165022e-03,  5.92537515e-04, -4.09222965e-04,\n",
       "        2.04570242e-03, -7.73245876e-04, -3.85849882e-04,  1.81214861e-03,\n",
       "        5.14330622e-03, -5.84400771e-03,  9.23762470e-03, -9.60405264e-03,\n",
       "        5.87347336e-03, -3.39956535e-03, -1.81004847e-03,  7.14800972e-03,\n",
       "       -3.42118973e-03,  8.97787046e-03, -7.72880670e-03,  1.06648391e-03,\n",
       "       -4.95100208e-03, -9.58784134e-04, -2.18925532e-03,  5.54559007e-03,\n",
       "        2.11599516e-03,  3.80287878e-03,  3.90157482e-04, -5.62593155e-03,\n",
       "        7.42620323e-03, -9.82353464e-03,  1.04038306e-02, -5.42739732e-03,\n",
       "        3.63969547e-03,  3.51351616e-03, -6.48026168e-03,  3.51342745e-03,\n",
       "       -3.86431441e-03,  4.08475194e-03, -1.65315357e-03,  4.41158609e-03,\n",
       "       -3.34609789e-03,  3.83941736e-03, -6.77612005e-03,  2.63867388e-03,\n",
       "       -2.76825763e-03, -1.16168195e-03,  7.81822857e-03, -6.78222394e-03,\n",
       "        1.17808031e-02, -8.53021815e-03,  2.79579684e-03, -2.86300038e-03,\n",
       "       -1.51241652e-03,  4.19112295e-03, -1.28247892e-03,  4.54948423e-03,\n",
       "        3.10188951e-03,  2.58668861e-03, -5.85420663e-03,  5.45953959e-03,\n",
       "       -7.35162711e-03,  8.86905286e-03, -4.02108394e-03,  1.89806538e-04,\n",
       "        2.75120279e-03, -6.37233630e-03,  6.44804398e-03, -1.05065554e-02,\n",
       "        7.84353912e-03, -8.51058983e-04,  2.71845143e-03,  3.99524695e-04,\n",
       "       -1.33056729e-03, -6.79782417e-04,  4.00010310e-03,  6.87966938e-04,\n",
       "       -5.28418506e-03,  5.34125417e-03, -6.22315938e-03,  1.00375954e-02,\n",
       "       -6.21803664e-03,  8.66332930e-03,  3.92077584e-03,  4.83077019e-03,\n",
       "        1.93541907e-02,  4.29937849e-03,  1.44485505e-02,  3.07458173e-03,\n",
       "        8.53959192e-03,  4.21097968e-03,  7.84321688e-03,  1.92661001e-03,\n",
       "        1.14505040e-02,  3.19386716e-03,  3.34127457e-04, -8.84662266e-04,\n",
       "       -1.37012796e-02,  4.41774772e-03, -1.55700007e-02, -2.09270162e-03,\n",
       "       -1.24765970e-02, -6.78183651e-03, -5.27567510e-03, -1.47039434e-02,\n",
       "       -4.95041627e-03, -1.04177119e-02, -1.41694467e-03, -4.14981274e-03,\n",
       "        6.38892991e-04, -6.35634596e-03,  6.54051546e-03, -6.58310670e-03,\n",
       "        5.50653692e-03,  6.43162848e-03,  2.63151946e-03,  1.84830911e-02,\n",
       "        1.64547213e-03,  1.80144887e-02,  1.18332368e-03,  7.28361122e-03,\n",
       "        5.27393259e-03,  5.74938068e-03,  9.30887088e-03,  4.74423543e-03,\n",
       "        4.12736740e-03, -8.45303526e-04,  1.37366646e-03], dtype=float32)"
      ]
     },
     "execution_count": 75,
     "metadata": {},
     "output_type": "execute_result"
    }
   ],
   "source": [
    "CQT.real[0]"
   ]
  },
  {
   "cell_type": "code",
   "execution_count": 76,
   "metadata": {},
   "outputs": [
    {
     "data": {
      "text/plain": [
       "tensor([-4.0008e-03,  7.6463e-03, -8.2923e-03,  8.6802e-03, -6.4689e-03,\n",
       "         1.3174e-03,  2.7899e-03, -5.8910e-03,  7.5938e-03, -7.5974e-03,\n",
       "         5.0472e-03, -2.6399e-03,  2.0907e-03, -1.5287e-03,  2.0892e-03,\n",
       "        -2.7021e-03,  3.1534e-03, -6.4946e-04, -2.6126e-03,  5.7080e-03,\n",
       "        -8.8864e-03,  1.0327e-02, -8.3596e-03,  4.7432e-03, -1.0099e-03,\n",
       "        -2.8273e-03,  5.2454e-03, -5.2620e-03,  4.3303e-03, -2.7518e-03,\n",
       "         2.7025e-03, -2.5039e-03,  3.6967e-03, -5.7204e-03,  6.0430e-03,\n",
       "        -3.3830e-03,  8.4335e-04,  3.1453e-03, -7.7881e-03,  9.8172e-03,\n",
       "        -9.1350e-03,  7.0167e-03, -4.1845e-03,  2.8845e-04,  2.7488e-03,\n",
       "        -2.3214e-03,  1.6803e-03, -2.1369e-03,  1.0320e-03, -2.1556e-03,\n",
       "         4.9183e-03, -7.1033e-03,  7.1416e-03, -7.5029e-03,  4.3101e-03,\n",
       "         4.0123e-05, -4.7244e-03,  8.0242e-03, -8.5229e-03,  7.5239e-03,\n",
       "        -5.7269e-03,  2.5326e-03, -2.0853e-04,  3.7941e-04, -3.6636e-04,\n",
       "         9.3937e-04, -1.1842e-03, -6.0735e-04,  3.8872e-03, -6.5666e-03,\n",
       "         8.4410e-03, -9.8055e-03,  7.6164e-03, -2.8301e-03, -1.0263e-03,\n",
       "         4.3390e-03, -7.1619e-03,  6.6734e-03, -5.1302e-03,  3.4682e-03,\n",
       "        -2.1534e-03,  1.9906e-03, -2.8983e-03,  3.4817e-03, -4.5729e-03,\n",
       "         1.7840e-03,  1.6032e-03, -4.2153e-03,  7.5528e-03, -1.1963e-02,\n",
       "         8.1903e-03, -5.6581e-03,  3.5259e-03,  2.2020e-03, -3.6699e-03,\n",
       "         4.3836e-03, -3.6198e-03,  3.2138e-03, -1.6978e-03,  3.0859e-03,\n",
       "        -3.6138e-03,  6.5683e-03, -6.3057e-03,  5.5433e-03, -1.4722e-03,\n",
       "        -6.4575e-04,  7.2175e-03, -8.4964e-03,  1.0183e-02, -6.5528e-03,\n",
       "         6.5326e-03, -1.0437e-04, -1.8376e-03, -1.4122e-03, -3.2764e-03,\n",
       "         1.5640e-03,  2.1119e-03,  4.2741e-03, -3.4206e-03,  5.3763e-03,\n",
       "        -1.0234e-02,  6.7235e-03, -6.3086e-03,  3.1917e-03,  5.8963e-03,\n",
       "        -5.1144e-03,  8.0807e-03, -8.7989e-03,  3.5408e-03, -4.4431e-03,\n",
       "         3.5382e-03,  2.1742e-03,  2.2712e-03, -1.3272e-03,  3.6077e-03,\n",
       "        -1.4853e-04, -4.3196e-03,  3.9047e-03, -8.4027e-03,  1.2436e-02,\n",
       "        -5.6211e-03,  5.2451e-03, -1.8253e-03, -3.7270e-03,  4.7144e-03,\n",
       "        -8.3650e-03,  4.7779e-03, -7.2570e-05,  6.0223e-03, -1.7937e-03,\n",
       "         1.2664e-03, -7.0976e-03,  4.1119e-03, -2.8105e-03,  1.3070e-03,\n",
       "         5.3149e-03, -4.9956e-03,  1.0605e-02, -1.0805e-02,  6.0582e-03,\n",
       "        -4.6475e-03, -2.7778e-04,  4.7330e-03, -3.0732e-04,  3.7481e-03,\n",
       "        -3.8483e-03,  1.9769e-04, -3.6724e-03,  2.5180e-03, -6.8264e-03,\n",
       "         8.5955e-03, -4.3471e-03,  5.4445e-03, -1.1535e-03, -8.0543e-03,\n",
       "         6.7917e-03, -7.9813e-03,  9.5472e-03, -4.3270e-03,  5.1483e-03,\n",
       "         1.9378e-03, -1.6596e-03, -2.6940e-03, -9.7671e-04,  2.8423e-03,\n",
       "         2.5231e-03,  4.3064e-03, -5.9717e-03,  7.9181e-03, -1.2205e-02,\n",
       "         3.9244e-03, -4.4245e-03, -5.3316e-04,  6.9913e-03, -6.1749e-03,\n",
       "         8.9177e-03, -4.9084e-03,  1.3012e-03, -4.8865e-03,  8.3233e-04,\n",
       "        -2.1588e-03,  4.3130e-03, -7.5607e-04,  2.1935e-03,  1.3401e-03,\n",
       "        -5.0504e-03,  5.5369e-03, -1.0479e-02,  1.2372e-02, -4.1153e-03,\n",
       "         2.6100e-03,  8.0445e-04, -6.6897e-03,  4.1728e-03, -4.4897e-03,\n",
       "         4.9247e-03,  1.4461e-03,  4.7096e-03, -5.1971e-03,  1.1646e-03,\n",
       "        -1.1136e-02,  1.6857e-03, -1.2859e-03, -1.8699e-03,  5.7252e-03,\n",
       "        -8.2710e-03,  1.0366e-02, -6.3732e-03,  8.9143e-03,  5.0637e-04,\n",
       "        -3.2999e-03, -7.4741e-04, -5.0384e-03,  6.7499e-04, -9.3818e-04,\n",
       "         2.5413e-03, -1.6047e-03,  7.9458e-03, -8.4858e-03,  6.2076e-03,\n",
       "        -7.3921e-03,  8.9594e-04,  5.3504e-03, -5.4143e-03,  1.0190e-02,\n",
       "        -4.7030e-03,  7.7066e-03, -3.6410e-03,  1.7317e-03, -8.2099e-04,\n",
       "         2.9832e-04,  2.1106e-03,  2.9968e-03, -1.8725e-03, -4.5909e-03,\n",
       "         3.9480e-03, -9.2472e-03,  9.9483e-03, -6.6665e-03,  7.4666e-03,\n",
       "         1.4395e-04, -6.1782e-03,  3.6650e-03, -8.9607e-03,  4.3423e-03,\n",
       "        -2.6689e-03,  5.3188e-03,  1.3510e-03,  5.5674e-03, -3.8641e-03,\n",
       "         2.9965e-03, -1.6155e-03,  7.8898e-04,  3.5321e-03, -5.0070e-03,\n",
       "         1.1251e-02, -9.9146e-03,  7.1871e-03, -5.0949e-03, -8.5119e-04,\n",
       "         5.0839e-03, -3.1408e-03,  4.4667e-03, -1.9603e-03,  1.1354e-03,\n",
       "        -5.4396e-03,  1.1790e-03, -5.8498e-03,  8.6528e-03, -4.0029e-03,\n",
       "         5.5828e-03,  2.6993e-03, -5.3447e-03,  5.2137e-03, -1.1015e-02,\n",
       "         9.1561e-03, -3.9457e-03,  4.8595e-03,  8.5651e-04, -9.4965e-04,\n",
       "         2.7841e-03, -1.4455e-03,  1.0606e-04,  1.6324e-03,  5.0825e-03,\n",
       "        -5.5401e-03,  8.8724e-03, -9.3452e-03,  5.7197e-03, -3.3494e-03,\n",
       "        -1.9450e-03,  7.3249e-03, -3.8150e-03,  9.4609e-03, -8.1921e-03,\n",
       "         1.3354e-03, -4.8681e-03, -1.3050e-03, -1.5592e-03,  4.8578e-03,\n",
       "         2.6830e-03,  3.4651e-03,  4.3807e-04, -5.5610e-03,  7.2353e-03,\n",
       "        -9.7709e-03,  1.0387e-02, -5.4680e-03,  3.6112e-03,  3.6991e-03,\n",
       "        -6.8610e-03,  4.1195e-03, -4.4560e-03,  4.5785e-03, -1.8546e-03,\n",
       "         4.2472e-03, -2.9087e-03,  3.2328e-03, -6.2509e-03,  2.2253e-03,\n",
       "        -2.6110e-03, -1.1815e-03,  7.7850e-03, -6.8105e-03,  1.1952e-02,\n",
       "        -8.7017e-03,  2.9660e-03, -2.7874e-03, -1.8318e-03,  4.7685e-03,\n",
       "        -1.9931e-03,  5.1700e-03,  2.6583e-03,  2.6544e-03, -5.6560e-03,\n",
       "         5.0127e-03, -6.9072e-03,  8.5160e-03, -3.7874e-03,  1.2716e-04,\n",
       "         2.8555e-03, -6.5117e-03,  6.7723e-03, -1.0868e-02,  8.1474e-03,\n",
       "        -1.0307e-03,  2.5413e-03,  8.3668e-04, -2.0335e-03,  6.5446e-06,\n",
       "         3.4217e-03,  9.8315e-04, -5.2543e-03,  5.1390e-03, -5.9286e-03,\n",
       "         9.8029e-03, -6.0765e-03,  8.6363e-03,  3.9811e-03,  4.6181e-03,\n",
       "         1.9708e-02,  3.7762e-03,  1.4945e-02,  2.6967e-03,  8.6011e-03,\n",
       "         4.4965e-03,  7.3013e-03,  2.6128e-03,  1.0866e-02,  3.6375e-03,\n",
       "         2.4946e-04, -9.0080e-04, -1.3549e-02,  4.3487e-03, -1.5596e-02,\n",
       "        -2.0132e-03, -1.2552e-02, -6.9309e-03, -4.9337e-03, -1.5295e-02,\n",
       "        -4.3043e-03, -1.1001e-02, -1.1208e-03, -4.1029e-03,  2.9178e-04,\n",
       "        -5.8451e-03,  6.0148e-03, -6.1595e-03,  5.2696e-03,  6.4991e-03,\n",
       "         2.5905e-03,  1.8535e-02,  1.4428e-03,  1.8272e-02,  9.4751e-04,\n",
       "         7.3259e-03,  5.5346e-03,  5.2593e-03,  1.0058e-02,  4.0847e-03,\n",
       "         4.6819e-03, -9.8567e-04,  1.3087e-03])"
      ]
     },
     "execution_count": 76,
     "metadata": {},
     "output_type": "execute_result"
    }
   ],
   "source": [
    "CQT_real[0][0]"
   ]
  },
  {
   "cell_type": "code",
   "execution_count": 69,
   "metadata": {},
   "outputs": [
    {
     "data": {
      "text/plain": [
       "<matplotlib.image.AxesImage at 0x1361d1ac8>"
      ]
     },
     "execution_count": 69,
     "metadata": {},
     "output_type": "execute_result"
    },
    {
     "data": {
      "image/png": "[encoded data removed]",
      "text/plain": [
       "<Figure size 432x288 with 1 Axes>"
      ]
     },
     "metadata": {
      "needs_background": "light"
     },
     "output_type": "display_data"
    }
   ],
   "source": [
    "plt.imshow(CQT_real[0], aspect='auto')"
   ]
  },
  {
   "cell_type": "code",
   "execution_count": null,
   "metadata": {},
   "outputs": [],
   "source": []
  }
 ],
 "metadata": {
  "kernelspec": {
   "display_name": "Python 3",
   "language": "python",
   "name": "python3"
  },
  "language_info": {
   "codemirror_mode": {
    "name": "ipython",
    "version": 3
   },
   "file_extension": ".py",
   "mimetype": "text/x-python",
   "name": "python",
   "nbconvert_exporter": "python",
   "pygments_lexer": "ipython3",
   "version": "3.6.8"
  }
 },
 "nbformat": 4,
 "nbformat_minor": 2
}
