{
 "cells": [
  {
   "cell_type": "code",
   "execution_count": 1,
   "metadata": {},
   "outputs": [],
   "source": [
    "import numpy as np\n",
    "from librosa.core import cqt\n",
    "import matplotlib.pyplot as plt\n",
    "import time\n",
    "import torch\n",
    "from librosa.core import note_to_hz\n",
    "\n",
    "import Spectrogram"
   ]
  },
  {
   "cell_type": "code",
   "execution_count": 2,
   "metadata": {},
   "outputs": [],
   "source": [
    "y_list = np.load('y_list.npy')"
   ]
  },
  {
   "cell_type": "code",
   "execution_count": 3,
   "metadata": {},
   "outputs": [
    {
     "name": "stdout",
     "output_type": "stream",
     "text": [
      "123.06505584716797\n"
     ]
    }
   ],
   "source": [
    "t_start = time.time()\n",
    "cqt_layer = Spectrogram.CQT1992(sr=44100, n_bins=168, bins_per_octave=24, fmin=note_to_hz('A1'))\n",
    "time_used = time.time()-t_start\n",
    "print(time_used)"
   ]
  },
  {
   "cell_type": "code",
   "execution_count": 4,
   "metadata": {},
   "outputs": [
    {
     "data": {
      "text/plain": [
       "(168, 16385)"
      ]
     },
     "execution_count": 4,
     "metadata": {},
     "output_type": "execute_result"
    }
   ],
   "source": [
    "cqt_layer.cqt_kernals.shape"
   ]
  },
  {
   "cell_type": "code",
   "execution_count": 5,
   "metadata": {},
   "outputs": [],
   "source": [
    "y_torch = torch.tensor(y_list, dtype=torch.float)"
   ]
  },
  {
   "cell_type": "code",
   "execution_count": 6,
   "metadata": {},
   "outputs": [
    {
     "name": "stdout",
     "output_type": "stream",
     "text": [
      "1981.5863637924194\n"
     ]
    }
   ],
   "source": [
    "timing = []\n",
    "\n",
    "for e in range(5):\n",
    "    t_start = time.time()\n",
    "    spec = cqt_layer(y_torch)\n",
    "    timing.append(time.time()-t_start)\n",
    "    time_used = time.time()-t_start\n",
    "    print(time_used)\n",
    "    timing.append(time_used)\n",
    "    break"
   ]
  },
  {
   "cell_type": "code",
   "execution_count": 7,
   "metadata": {},
   "outputs": [
    {
     "name": "stdout",
     "output_type": "stream",
     "text": [
      "mean =  1981.5863628387451\n",
      "std =  9.5367431640625e-07\n"
     ]
    }
   ],
   "source": [
    "print(\"mean = \",np.mean(timing))\n",
    "print(\"std = \", np.std(timing))"
   ]
  },
  {
   "cell_type": "code",
   "execution_count": 8,
   "metadata": {},
   "outputs": [
    {
     "data": {
      "text/plain": [
       "<matplotlib.image.AxesImage at 0x7f52b1a6c630>"
      ]
     },
     "execution_count": 8,
     "metadata": {},
     "output_type": "execute_result"
    },
    {
     "data": {
      "image/png": "[encoded data removed]",
      "text/plain": [
       "<Figure size 432x288 with 1 Axes>"
      ]
     },
     "metadata": {
      "needs_background": "light"
     },
     "output_type": "display_data"
    }
   ],
   "source": [
    "plt.imshow(spec[0], aspect='auto', origin='lower')"
   ]
  },
  {
   "cell_type": "code",
   "execution_count": 9,
   "metadata": {},
   "outputs": [
    {
     "data": {
      "text/plain": [
       "tensor([[ 911.6144,  858.6310,  794.0670,  ...,   24.3373,   23.3899,\n",
       "           22.6981],\n",
       "        [3044.7068, 2784.4961, 2493.8989,  ...,   31.8460,   35.0234,\n",
       "           38.4133],\n",
       "        [9442.3115, 8685.4521, 8036.7739,  ...,   93.0657,   89.2090,\n",
       "           85.6012],\n",
       "        ...,\n",
       "        [3846.7888, 2630.9890, 2913.7498,  ...,  185.8119,  443.9184,\n",
       "          203.0666],\n",
       "        [7780.5020, 7641.1479, 7737.0322,  ...,  313.4372,  278.4749,\n",
       "          339.0150],\n",
       "        [3133.0225, 3950.0520, 3446.5674,  ...,   90.7531,  298.7794,\n",
       "          391.9747]])"
      ]
     },
     "execution_count": 9,
     "metadata": {},
     "output_type": "execute_result"
    }
   ],
   "source": [
    "spec[0]"
   ]
  },
  {
   "cell_type": "code",
   "execution_count": null,
   "metadata": {},
   "outputs": [],
   "source": []
  }
 ],
 "metadata": {
  "kernelspec": {
   "display_name": "Python 3",
   "language": "python",
   "name": "python3"
  },
  "language_info": {
   "codemirror_mode": {
    "name": "ipython",
    "version": 3
   },
   "file_extension": ".py",
   "mimetype": "text/x-python",
   "name": "python",
   "nbconvert_exporter": "python",
   "pygments_lexer": "ipython3",
   "version": "3.6.8"
  }
 },
 "nbformat": 4,
 "nbformat_minor": 2
}
