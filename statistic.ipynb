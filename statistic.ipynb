{
 "cells": [
  {
   "cell_type": "code",
   "execution_count": 1,
   "metadata": {},
   "outputs": [],
   "source": [
    "import numpy as np"
   ]
  },
  {
   "cell_type": "code",
   "execution_count": 2,
   "metadata": {},
   "outputs": [],
   "source": [
    "CQT_1992v2 = [4.9926, 5.0094, 4.8306]"
   ]
  },
  {
   "cell_type": "code",
   "execution_count": 15,
   "metadata": {},
   "outputs": [
    {
     "name": "stdout",
     "output_type": "stream",
     "text": [
      "mean = 4.944\n",
      "std = 0.081\n"
     ]
    }
   ],
   "source": [
    "mean = np.mean(CQT_1992v2)\n",
    "std = np.std(CQT_1992v2)\n",
    "print(\"mean = {:3.3f}\\nstd = {:3.3f}\".format(mean, std))"
   ]
  },
  {
   "cell_type": "code",
   "execution_count": 18,
   "metadata": {},
   "outputs": [],
   "source": [
    "# CQT_1992 = [194.8416, 193.6273, 196.1560]\n",
    "CQT_1992 = [5.5091, 5.6165, 5.7075]"
   ]
  },
  {
   "cell_type": "code",
   "execution_count": 19,
   "metadata": {},
   "outputs": [
    {
     "name": "stdout",
     "output_type": "stream",
     "text": [
      "mean = 5.611\n",
      "std = 0.081\n"
     ]
    }
   ],
   "source": [
    "mean = np.mean(CQT_1992)\n",
    "std = np.std(CQT_1992)\n",
    "print(\"mean = {:3.3f}\\nstd = {:3.3f}\".format(mean, std))"
   ]
  },
  {
   "cell_type": "code",
   "execution_count": 26,
   "metadata": {},
   "outputs": [],
   "source": [
    "CQT2010 = [4.8259-4.8159, 4.7445-4.7014, 4.7105-4.6295]\n",
    "# CQT2010 = [0.0576+4.7014 , 0.0646+4.8159, 0.0610+4.6295]"
   ]
  },
  {
   "cell_type": "code",
   "execution_count": 27,
   "metadata": {},
   "outputs": [
    {
     "name": "stdout",
     "output_type": "stream",
     "text": [
      "mean = 0.045\n",
      "std = 0.029\n"
     ]
    }
   ],
   "source": [
    "mean = np.mean(CQT2010)\n",
    "std = np.std(CQT2010)\n",
    "print(\"mean = {:3.3f}\\nstd = {:3.3f}\".format(mean, std))"
   ]
  },
  {
   "cell_type": "code",
   "execution_count": 28,
   "metadata": {},
   "outputs": [],
   "source": [
    "CQT2019 = [4.5539+0.0085, 4.6539+0.0109, 4.6610+0.0101]\n",
    "# CQT2010 = [0.0576+4.7014 , 0.0646+4.8159, 0.0610+4.6295]"
   ]
  },
  {
   "cell_type": "code",
   "execution_count": 30,
   "metadata": {},
   "outputs": [
    {
     "name": "stdout",
     "output_type": "stream",
     "text": [
      "mean = 4.633\n",
      "std = 0.050\n"
     ]
    }
   ],
   "source": [
    "mean = np.mean(CQT2019)\n",
    "std = np.std(CQT2019)\n",
    "print(\"mean = {:3.3f}\\nstd = {:3.3f}\".format(mean, std))"
   ]
  },
  {
   "cell_type": "code",
   "execution_count": 38,
   "metadata": {},
   "outputs": [],
   "source": [
    "MelSpec = [5.4444, 5.5291, 5.4360]\n",
    "# MelSpec = [0.0209, 0.0216, 0.0293]"
   ]
  },
  {
   "cell_type": "code",
   "execution_count": 39,
   "metadata": {},
   "outputs": [
    {
     "name": "stdout",
     "output_type": "stream",
     "text": [
      "mean = 5.470\n",
      "std = 0.042\n"
     ]
    }
   ],
   "source": [
    "mean = np.mean(MelSpec)\n",
    "std = np.std(MelSpec)\n",
    "print(\"mean = {:3.3f}\\nstd = {:3.3f}\".format(mean, std))"
   ]
  },
  {
   "cell_type": "code",
   "execution_count": 40,
   "metadata": {},
   "outputs": [
    {
     "name": "stdout",
     "output_type": "stream",
     "text": [
      "mean = 5.465\n",
      "std = 0.123\n"
     ]
    }
   ],
   "source": [
    "STFT = [5.3626,5.6380,5.3933]\n",
    "mean = np.mean(STFT)\n",
    "std = np.std(STFT)\n",
    "print(\"mean = {:3.3f}\\nstd = {:3.3f}\".format(mean, std))"
   ]
  },
  {
   "cell_type": "code",
   "execution_count": null,
   "metadata": {},
   "outputs": [],
   "source": []
  }
 ],
 "metadata": {
  "kernelspec": {
   "display_name": "Python 3",
   "language": "python",
   "name": "python3"
  },
  "language_info": {
   "codemirror_mode": {
    "name": "ipython",
    "version": 3
   },
   "file_extension": ".py",
   "mimetype": "text/x-python",
   "name": "python",
   "nbconvert_exporter": "python",
   "pygments_lexer": "ipython3",
   "version": "3.6.8"
  }
 },
 "nbformat": 4,
 "nbformat_minor": 2
}
